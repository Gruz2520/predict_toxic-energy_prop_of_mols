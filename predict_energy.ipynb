{
 "cells": [
  {
   "cell_type": "code",
   "execution_count": null,
   "id": "81f23145-c7fb-4736-9594-187940355b6f",
   "metadata": {},
   "outputs": [
    {
     "data": {
      "text/plain": [
       "device(type='cuda')"
      ]
     },
     "execution_count": 1,
     "metadata": {},
     "output_type": "execute_result"
    }
   ],
   "source": [
    "from dig.threedgraph.dataset import QM93D\n",
    "from dig.threedgraph.method import SphereNet, ComENet, DimeNetPP, ProNet, SchNet\n",
    "from dig.threedgraph.evaluation import ThreeDEvaluator\n",
    "from dig.threedgraph.method import run\n",
    "from torch_geometric.data import Data\n",
    "from torch_geometric.data import DataLoader\n",
    "from tqdm import tqdm\n",
    "import torch\n",
    "import pandas as pd\n",
    "import numpy as np\n",
    "from sklearn.model_selection import train_test_split\n",
    "from torch_geometric.data import Data, Batch\n",
    "from rdkit import Chem\n",
    "from rdkit.Chem import AllChem\n",
    "from torch_sparse import SparseTensor\n",
    "import utils\n",
    "import tts\n",
    "import random\n",
    "# название модели, под которым оно будет сохраняться в логах\n",
    "name_of_model = 'energy_test'\n",
    "\n",
    "device = torch.device('cuda') if torch.cuda.is_available() else torch.device(\"cpu\")\n",
    "device"
   ]
  },
  {
   "cell_type": "code",
   "execution_count": null,
   "id": "ec521f8d-6f36-4a08-a850-92203edf5b0e",
   "metadata": {},
   "outputs": [],
   "source": [
    "def xyz_string_to_graph_data(xyz_string, target, formula):\n",
    "    lines = xyz_string.strip().split('\\n')\n",
    "    coords = []\n",
    "    atom_types = []\n",
    "    for line in lines[2:]:\n",
    "        atom_data = line.strip().split()\n",
    "        atom_type = atom_data[0]\n",
    "        x, y, z = map(float, atom_data[1:4])\n",
    "        coords.append([x, y, z])\n",
    "        atom_types.append(Chem.Atom(atom_type))\n",
    "    pos = torch.tensor(coords)\n",
    "    z = torch.tensor([atom.GetAtomicNum() for atom in atom_types])\n",
    "    \n",
    "    return Data(pos=pos, z=z, y=target, formula=formula)"
   ]
  },
  {
   "cell_type": "code",
   "execution_count": null,
   "id": "b4dec7b5-32c6-4d62-89cf-fce3a468154c",
   "metadata": {},
   "outputs": [
    {
     "name": "stderr",
     "output_type": "stream",
     "text": [
      "100%|██████████| 122381/122381 [03:03<00:00, 667.46it/s]\n"
     ]
    }
   ],
   "source": [
    "data = pd.read_csv('pred_toxic/dataset/data_all_new.csv')\n",
    "\n",
    "molecules = []\n",
    "\n",
    "for i, row in tqdm(data.iterrows(), total=data.shape[0]):\n",
    "    mol = Chem.MolFromXYZBlock(row['xyz'])\n",
    "    formula = Chem.MolToInchi(mol).split('/', )[1]\n",
    "    \n",
    "    molecules.append(xyz_string_to_graph_data(row['xyz'],\n",
    "                    row['U_0'] / mol.GetNumAtoms(),\n",
    "                    formula))"
   ]
  },
  {
   "cell_type": "code",
   "execution_count": null,
   "id": "f3722748-d7cc-46c4-96e3-cd0d201be006",
   "metadata": {},
   "outputs": [
    {
     "data": {
      "text/plain": [
       "Data(y=-19.32844019842, pos=[10, 3], z=[10], formula='5CH4.5H2', v_mol=10)"
      ]
     },
     "execution_count": 5,
     "metadata": {},
     "output_type": "execute_result"
    }
   ],
   "source": [
    "molecules[0]"
   ]
  },
  {
   "cell_type": "code",
   "execution_count": null,
   "id": "f80c68ab-a1e1-4a26-8101-d0438c4906e2",
   "metadata": {},
   "outputs": [],
   "source": [
    "def create_structure_dict(structures: list):\n",
    "    structure_dict = {}\n",
    "\n",
    "    for structure in tqdm(structures, total=len(structures)):\n",
    "        if structure.formula in structure_dict:\n",
    "            structure_dict[structure.formula].append(structure)\n",
    "        else:\n",
    "            structure_dict[structure.formula] = [structure]\n",
    "        \n",
    "    return structure_dict\n",
    "\n",
    "def tts_def(X, val_size=0.2, test_size=0.1):\n",
    "    train_data, test_val_data = train_test_split(X, test_size=test_size+val_size, random_state=42)\n",
    "    val_data, test_data = train_test_split(test_val_data, test_size=(test_size/(test_size+val_size)), random_state=42)\n",
    "    \n",
    "    return train_data, val_data, test_data\n",
    "\n",
    "def create_tts_def_en(structure_dict: dict, val_size=0.2, test_size=0.1):\n",
    "    mol_train, mol_val, mol_test = [], [], []\n",
    "    targets_train, targets_val, targets_test = [], [], []\n",
    "    train_all, test_all, val_all = [], [], []\n",
    "\n",
    "    for _, data in tqdm(structure_dict.items()):\n",
    "        if len(data) < 4:\n",
    "            train_all += data\n",
    "        else:\n",
    "            train_data, val_data, test_data = tts_def(data, val_size, test_size)\n",
    "            train_all += train_data\n",
    "            val_all += val_data\n",
    "            test_all += test_data\n",
    "            \n",
    "    random.shuffle(train_all)\n",
    "    random.shuffle(val_all)\n",
    "    random.shuffle(test_all)\n",
    "\n",
    "    for t_data in train_all:\n",
    "        mol_train.append(t_data)\n",
    "        targets_train.append(t_data.y)\n",
    "    \n",
    "    for tv_data in val_all:\n",
    "        mol_val.append(tv_data)\n",
    "        targets_val.append(tv_data.y)\n",
    "    \n",
    "    for te_data in test_all:\n",
    "        mol_test.append(te_data)\n",
    "        targets_test.append(te_data.y)\n",
    "    \n",
    "    return mol_train, mol_val, mol_test, targets_train, targets_val, targets_test"
   ]
  },
  {
   "cell_type": "code",
   "execution_count": null,
   "id": "c86a5f75-e420-4058-a46b-bbf87205d649",
   "metadata": {},
   "outputs": [
    {
     "name": "stderr",
     "output_type": "stream",
     "text": [
      "100%|██████████| 122381/122381 [00:00<00:00, 307857.31it/s]\n",
      "100%|██████████| 134/134 [00:00<00:00, 896.10it/s]\n"
     ]
    }
   ],
   "source": [
    "structure_dict = create_structure_dict(molecules)\n",
    "X_train, X_val, X_test, y_train, y_val, y_test = create_tts_def_en(structure_dict)"
   ]
  },
  {
   "cell_type": "code",
   "execution_count": null,
   "id": "59a5ebb6-1af0-4e76-b7f3-256f0638b03a",
   "metadata": {},
   "outputs": [
    {
     "name": "stdout",
     "output_type": "stream",
     "text": [
      "#Params: 455809\n",
      "\n",
      "=====Epoch 1\n",
      "\n",
      "Training...\n"
     ]
    },
    {
     "name": "stderr",
     "output_type": "stream",
     "text": [
      "/home/eagruzintsev/.conda/envs/toxic_env/lib/python3.10/site-packages/torch_geometric/deprecation.py:26: UserWarning: 'data.DataLoader' is deprecated, use 'loader.DataLoader' instead\n",
      "  warnings.warn(out)\n",
      "100%|██████████| 2676/2676 [00:51<00:00, 52.36it/s]"
     ]
    },
    {
     "name": "stdout",
     "output_type": "stream",
     "text": [
      "\n",
      "\n",
      "Evaluating...\n"
     ]
    },
    {
     "name": "stderr",
     "output_type": "stream",
     "text": [
      "\n",
      "100%|██████████| 765/765 [00:07<00:00, 97.80it/s]"
     ]
    },
    {
     "name": "stdout",
     "output_type": "stream",
     "text": [
      "\n",
      "\n",
      "Testing...\n"
     ]
    },
    {
     "name": "stderr",
     "output_type": "stream",
     "text": [
      "\n",
      "100%|██████████| 384/384 [00:04<00:00, 95.61it/s]"
     ]
    },
    {
     "name": "stdout",
     "output_type": "stream",
     "text": [
      "\n",
      "{'Train': 0.5113657549558199, 'Validation': 0.1705920249223709, 'Test': 0.1702052354812622}\n",
      "Saving checkpoint...\n",
      "Best validation MAE so far: 0.1705920249223709\n",
      "Test MAE when got best validation result: 0.1702052354812622\n"
     ]
    },
    {
     "name": "stderr",
     "output_type": "stream",
     "text": [
      "\n"
     ]
    }
   ],
   "source": [
    "model = SchNet(energy_and_force=False, cutoff=15.0, num_layers=6, hidden_channels=128, out_channels=1, num_filters=128, num_gaussians=50)\n",
    "loss_func = torch.nn.L1Loss()\n",
    "evaluation = ThreeDEvaluator()\n",
    "\n",
    "run3d = run()\n",
    "run3d.run(device, X_train, X_val, X_test, model, loss_func, evaluation,\n",
    "          epochs=10, batch_size=32, vt_batch_size=32, lr=0.0005, lr_decay_factor=0.5, lr_decay_step_size=15,\n",
    "          save_dir=f\"pred_toxic/models/{name_of_model}\", log_dir=f\"pred_toxic/logs/{name_of_model}\")"
   ]
  },
  {
   "cell_type": "code",
   "execution_count": null,
   "id": "91243a7a-8d8e-45c6-ad9c-d46d28545447",
   "metadata": {},
   "outputs": [
    {
     "name": "stderr",
     "output_type": "stream",
     "text": [
      "100%|██████████| 384/384 [00:03<00:00, 99.87it/s] \n"
     ]
    }
   ],
   "source": [
    "def eval(X_test):\n",
    "    valid_loader = DataLoader(X_test, 32, shuffle=False)\n",
    "    run3d.val(model, valid_loader, False, 100, evaluation, device)\n",
    "eval(X_test)"
   ]
  }
 ],
 "metadata": {
  "kernelspec": {
   "display_name": "Python [.conda-toxic_env]",
   "language": "python",
   "name": "conda-env-.conda-toxic_env-py"
  },
  "language_info": {
   "codemirror_mode": {
    "name": "ipython",
    "version": 3
   },
   "file_extension": ".py",
   "mimetype": "text/x-python",
   "name": "python",
   "nbconvert_exporter": "python",
   "pygments_lexer": "ipython3",
   "version": "3.10.14"
  }
 },
 "nbformat": 4,
 "nbformat_minor": 5
}
