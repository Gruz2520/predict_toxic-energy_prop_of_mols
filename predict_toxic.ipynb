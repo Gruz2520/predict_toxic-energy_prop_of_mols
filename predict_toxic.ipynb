{
 "cells": [
  {
   "cell_type": "code",
   "execution_count": 1,
   "id": "7905d0c3-50cc-406d-ac2f-8c34e580667d",
   "metadata": {},
   "outputs": [
    {
     "data": {
      "text/plain": [
       "device(type='cuda')"
      ]
     },
     "execution_count": 1,
     "metadata": {},
     "output_type": "execute_result"
    }
   ],
   "source": [
    "from dig.threedgraph.dataset import QM93D\n",
    "from dig.threedgraph.method import SphereNet, ComENet, DimeNetPP, ProNet, SchNet\n",
    "from dig.threedgraph.evaluation import ThreeDEvaluator\n",
    "from dig.threedgraph.method import run\n",
    "from torch_geometric.data import Data\n",
    "from torch_geometric.data import DataLoader\n",
    "from tqdm import tqdm\n",
    "import torch\n",
    "import pandas as pd\n",
    "import numpy as np\n",
    "from sklearn.model_selection import train_test_split\n",
    "from torch_geometric.data import Data, Batch\n",
    "from rdkit import Chem\n",
    "from rdkit.Chem import AllChem\n",
    "from torch_sparse import SparseTensor\n",
    "import utils\n",
    "import tts\n",
    "# название модели, под которым оно будет сохраняться в логах\n",
    "name_of_model = 'test'\n",
    "\n",
    "device = torch.device('cuda') if torch.cuda.is_available() else torch.device(\"cpu\")\n",
    "device"
   ]
  },
  {
   "cell_type": "code",
   "execution_count": 2,
   "id": "4247dd6e-9294-4960-8a7d-1c0099943e4b",
   "metadata": {},
   "outputs": [
    {
     "name": "stdout",
     "output_type": "stream",
     "text": [
      "Shape of old dataset: (34926, 56)\n",
      "Processing...\n"
     ]
    },
    {
     "name": "stderr",
     "output_type": "stream",
     "text": [
      "100%|██████████| 56/56 [00:02<00:00, 22.60it/s]"
     ]
    },
    {
     "name": "stdout",
     "output_type": "stream",
     "text": [
      "Shape of new dataset: (34915, 56)\n"
     ]
    },
    {
     "name": "stderr",
     "output_type": "stream",
     "text": [
      "\n"
     ]
    }
   ],
   "source": [
    "# отдельная функция для подчистки датасета, убирает с отрицательной токсичностью и заменяет в некоторых названия xyz\n",
    "dataset = utils.clean_dataset(pd.read_csv(\"dataset/md_dataset_full_v3.csv\"))"
   ]
  },
  {
   "cell_type": "code",
   "execution_count": 3,
   "id": "0c3a9f92-c9b6-433b-9950-a9358e7f9354",
   "metadata": {
    "jupyter": {
     "source_hidden": true
    },
    "tags": []
   },
   "outputs": [],
   "source": [
    "suspects = pd.DataFrame()\n",
    "\n",
    "for i, row in dataset.iterrows():\n",
    "    if len(row['xyz_0'].split(\"\\n\")) == 18:\n",
    "        suspects = pd.concat([suspects, row.to_frame().T], ignore_index=True)"
   ]
  },
  {
   "cell_type": "code",
   "execution_count": 3,
   "id": "dc4e8496-a72c-4373-bb0f-a30408188d15",
   "metadata": {
    "tags": []
   },
   "outputs": [
    {
     "name": "stderr",
     "output_type": "stream",
     "text": [
      "100%|██████████| 34923/34923 [08:16<00:00, 70.32it/s]\n"
     ]
    }
   ],
   "source": [
    "def xyz_strin(xyz_string, target, mol_id, i):\n",
    "    lines = xyz_string.strip().split('\\n')\n",
    "    coords = []\n",
    "    atom_types = []\n",
    "    for line in lines:\n",
    "        atom_data = line.strip().split()\n",
    "        atom_type = atom_data[0]\n",
    "        x, y, z = map(float, atom_data[1:4])\n",
    "        coords.append([x, y, z])\n",
    "        atom_types.append(Chem.Atom(atom_type))\n",
    "    pos = torch.tensor(coords)\n",
    "    z = torch.tensor([atom.GetAtomicNum() for atom in atom_types])\n",
    "    \n",
    "    return Data(pos=pos, z=z, y=target, mol_id=mol_id, i=i)\n",
    "\n",
    "X = []\n",
    "\n",
    "for _, row in tqdm(dataset.iterrows(), total=len(dataset)):\n",
    "    for i in range(51):\n",
    "        xyz_string = row[f'xyz_{i}']\n",
    "        try:\n",
    "            data = xyz_strin(xyz_string, torch.tensor([row['mouse_intraperitoneal_LD50']]), row['mol_id'], i)\n",
    "        except RuntimeError:\n",
    "            print(row)\n",
    "            continue\n",
    "        X.append(data)"
   ]
  },
  {
   "cell_type": "code",
   "execution_count": 3,
   "id": "c665a2f8-27f8-49c3-a7f2-552c3ed77d0e",
   "metadata": {},
   "outputs": [
    {
     "name": "stderr",
     "output_type": "stream",
     "text": [
      "100%|██████████| 34915/34915 [00:21<00:00, 1659.49it/s]\n"
     ]
    }
   ],
   "source": [
    "# я решил протестировать несколько вариаций датасетов, чтобы понять, есть ли какая-то разница\n",
    "X_train, X_val, X_test, y_train, y_val, y_test = tts.create_tts_def(dataset, n=2)"
   ]
  },
  {
   "cell_type": "code",
   "execution_count": 6,
   "id": "cb898509-1d1f-477d-90c0-30e13f9426bd",
   "metadata": {},
   "outputs": [
    {
     "data": {
      "text/plain": [
       "(24446, 6985, 3493)"
      ]
     },
     "execution_count": 6,
     "metadata": {},
     "output_type": "execute_result"
    }
   ],
   "source": [
    "len(X_train), len(X_val), len(X_test)"
   ]
  },
  {
   "cell_type": "code",
   "execution_count": 4,
   "id": "be7669d5-96d9-40c7-aaea-455b5208801a",
   "metadata": {},
   "outputs": [
    {
     "data": {
      "text/plain": [
       "(48880, 13966, 6984)"
      ]
     },
     "execution_count": 4,
     "metadata": {},
     "output_type": "execute_result"
    }
   ],
   "source": [
    "len(X_train), len(X_val), len(X_test)"
   ]
  },
  {
   "cell_type": "code",
   "execution_count": 9,
   "id": "821fcd79-7172-4e18-99ae-0884fe31fb0d",
   "metadata": {},
   "outputs": [],
   "source": [
    "model = SphereNet(energy_and_force=False, cutoff=5.0, num_layers=4,\n",
    "                  hidden_channels=128, out_channels=1, int_emb_size=64,\n",
    "                  basis_emb_size_dist=8, basis_emb_size_angle=8, basis_emb_size_torsion=8, out_emb_channels=256,\n",
    "                  num_spherical=3, num_radial=6, envelope_exponent=5,\n",
    "                  num_before_skip=1, num_after_skip=2, num_output_layers=3)\n",
    "loss_func = torch.nn.L1Loss()\n",
    "evaluation = ThreeDEvaluator()"
   ]
  },
  {
   "cell_type": "code",
   "execution_count": 5,
   "id": "9719c6d1-48d2-47c2-a6bf-828d60e4c3c4",
   "metadata": {},
   "outputs": [],
   "source": [
    "model = SchNet(energy_and_force=False, cutoff=15, num_layers=1, hidden_channels=128, out_channels=1, num_filters=128, num_gaussians=50)"
   ]
  },
  {
   "cell_type": "code",
   "execution_count": 5,
   "id": "1fd57994-8985-45f4-8040-cf2433e38b7a",
   "metadata": {},
   "outputs": [],
   "source": [
    "from torch.optim import Adam\n",
    "run3d = run()\n",
    "optimizer = Adam(model.parameters(), lr=0.0005, weight_decay=0)"
   ]
  },
  {
   "cell_type": "code",
   "execution_count": 6,
   "id": "e7e18a58-c0d5-4bd1-9450-da2fb4268d15",
   "metadata": {},
   "outputs": [],
   "source": [
    "model.train()\n",
    "model = model.to(device)"
   ]
  },
  {
   "cell_type": "code",
   "execution_count": 7,
   "id": "09177e70-92da-4cae-99fe-9fe7cbd3e827",
   "metadata": {
    "collapsed": true,
    "jupyter": {
     "outputs_hidden": true
    },
    "tags": []
   },
   "outputs": [
    {
     "name": "stderr",
     "output_type": "stream",
     "text": [
      "  2%|▏         | 30145/1781073 [01:44<1:48:10, 269.76it/s]"
     ]
    },
    {
     "name": "stdout",
     "output_type": "stream",
     "text": [
      "Error processing sample Data(y=[1], pos=[26, 3], z=[26], mol_id=19060, i=1)\n",
      "Error processing sample Data(y=[1], pos=[26, 3], z=[26], mol_id=19060, i=2)\n",
      "Error processing sample Data(y=[1], pos=[26, 3], z=[26], mol_id=19060, i=3)\n",
      "Error processing sample Data(y=[1], pos=[26, 3], z=[26], mol_id=19060, i=4)\n",
      "Error processing sample Data(y=[1], pos=[26, 3], z=[26], mol_id=19060, i=5)\n",
      "Error processing sample Data(y=[1], pos=[26, 3], z=[26], mol_id=19060, i=6)\n",
      "Error processing sample Data(y=[1], pos=[26, 3], z=[26], mol_id=19060, i=7)\n",
      "Error processing sample Data(y=[1], pos=[26, 3], z=[26], mol_id=19060, i=8)\n",
      "Error processing sample Data(y=[1], pos=[26, 3], z=[26], mol_id=19060, i=9)\n",
      "Error processing sample Data(y=[1], pos=[26, 3], z=[26], mol_id=19060, i=10)\n",
      "Error processing sample Data(y=[1], pos=[26, 3], z=[26], mol_id=19060, i=11)\n",
      "Error processing sample Data(y=[1], pos=[26, 3], z=[26], mol_id=19060, i=12)\n",
      "Error processing sample Data(y=[1], pos=[26, 3], z=[26], mol_id=19060, i=13)\n",
      "Error processing sample Data(y=[1], pos=[26, 3], z=[26], mol_id=19060, i=14)\n",
      "Error processing sample Data(y=[1], pos=[26, 3], z=[26], mol_id=19060, i=15)\n",
      "Error processing sample Data(y=[1], pos=[26, 3], z=[26], mol_id=19060, i=16)\n",
      "Error processing sample Data(y=[1], pos=[26, 3], z=[26], mol_id=19060, i=17)\n"
     ]
    },
    {
     "name": "stderr",
     "output_type": "stream",
     "text": [
      "  2%|▏         | 30173/1781073 [01:44<2:55:24, 166.36it/s]"
     ]
    },
    {
     "name": "stdout",
     "output_type": "stream",
     "text": [
      "Error processing sample Data(y=[1], pos=[26, 3], z=[26], mol_id=19060, i=18)\n",
      "Error processing sample Data(y=[1], pos=[26, 3], z=[26], mol_id=19060, i=19)\n",
      "Error processing sample Data(y=[1], pos=[26, 3], z=[26], mol_id=19060, i=20)\n",
      "Error processing sample Data(y=[1], pos=[26, 3], z=[26], mol_id=19060, i=21)\n",
      "Error processing sample Data(y=[1], pos=[26, 3], z=[26], mol_id=19060, i=22)\n",
      "Error processing sample Data(y=[1], pos=[26, 3], z=[26], mol_id=19060, i=23)\n",
      "Error processing sample Data(y=[1], pos=[26, 3], z=[26], mol_id=19060, i=24)\n",
      "Error processing sample Data(y=[1], pos=[26, 3], z=[26], mol_id=19060, i=25)\n",
      "Error processing sample Data(y=[1], pos=[26, 3], z=[26], mol_id=19060, i=26)\n",
      "Error processing sample Data(y=[1], pos=[26, 3], z=[26], mol_id=19060, i=27)\n",
      "Error processing sample Data(y=[1], pos=[26, 3], z=[26], mol_id=19060, i=28)\n",
      "Error processing sample Data(y=[1], pos=[26, 3], z=[26], mol_id=19060, i=29)\n",
      "Error processing sample Data(y=[1], pos=[26, 3], z=[26], mol_id=19060, i=30)\n",
      "Error processing sample Data(y=[1], pos=[26, 3], z=[26], mol_id=19060, i=31)\n",
      "Error processing sample Data(y=[1], pos=[26, 3], z=[26], mol_id=19060, i=32)\n",
      "Error processing sample Data(y=[1], pos=[26, 3], z=[26], mol_id=19060, i=33)\n",
      "Error processing sample Data(y=[1], pos=[26, 3], z=[26], mol_id=19060, i=34)\n",
      "Error processing sample Data(y=[1], pos=[26, 3], z=[26], mol_id=19060, i=35)\n"
     ]
    },
    {
     "name": "stderr",
     "output_type": "stream",
     "text": [
      "  2%|▏         | 30195/1781073 [01:44<3:26:05, 141.59it/s]"
     ]
    },
    {
     "name": "stdout",
     "output_type": "stream",
     "text": [
      "Error processing sample Data(y=[1], pos=[26, 3], z=[26], mol_id=19060, i=36)\n",
      "Error processing sample Data(y=[1], pos=[26, 3], z=[26], mol_id=19060, i=37)\n",
      "Error processing sample Data(y=[1], pos=[26, 3], z=[26], mol_id=19060, i=38)\n",
      "Error processing sample Data(y=[1], pos=[26, 3], z=[26], mol_id=19060, i=39)\n",
      "Error processing sample Data(y=[1], pos=[26, 3], z=[26], mol_id=19060, i=40)\n",
      "Error processing sample Data(y=[1], pos=[26, 3], z=[26], mol_id=19060, i=41)\n",
      "Error processing sample Data(y=[1], pos=[26, 3], z=[26], mol_id=19060, i=42)\n",
      "Error processing sample Data(y=[1], pos=[26, 3], z=[26], mol_id=19060, i=43)\n",
      "Error processing sample Data(y=[1], pos=[26, 3], z=[26], mol_id=19060, i=44)\n",
      "Error processing sample Data(y=[1], pos=[26, 3], z=[26], mol_id=19060, i=45)\n",
      "Error processing sample Data(y=[1], pos=[26, 3], z=[26], mol_id=19060, i=46)\n",
      "Error processing sample Data(y=[1], pos=[26, 3], z=[26], mol_id=19060, i=47)\n",
      "Error processing sample Data(y=[1], pos=[26, 3], z=[26], mol_id=19060, i=48)\n",
      "Error processing sample Data(y=[1], pos=[26, 3], z=[26], mol_id=19060, i=49)\n",
      "Error processing sample Data(y=[1], pos=[26, 3], z=[26], mol_id=19060, i=50)\n"
     ]
    },
    {
     "name": "stderr",
     "output_type": "stream",
     "text": [
      "  7%|▋         | 133458/1781073 [07:48<1:40:21, 273.61it/s]"
     ]
    },
    {
     "name": "stdout",
     "output_type": "stream",
     "text": [
      "Error processing sample Data(y=[1], pos=[41, 3], z=[41], mol_id=3039, i=1)\n",
      "Error processing sample Data(y=[1], pos=[41, 3], z=[41], mol_id=3039, i=2)\n",
      "Error processing sample Data(y=[1], pos=[41, 3], z=[41], mol_id=3039, i=3)\n",
      "Error processing sample Data(y=[1], pos=[41, 3], z=[41], mol_id=3039, i=4)\n",
      "Error processing sample Data(y=[1], pos=[41, 3], z=[41], mol_id=3039, i=5)\n",
      "Error processing sample Data(y=[1], pos=[41, 3], z=[41], mol_id=3039, i=6)\n",
      "Error processing sample Data(y=[1], pos=[41, 3], z=[41], mol_id=3039, i=7)\n",
      "Error processing sample Data(y=[1], pos=[41, 3], z=[41], mol_id=3039, i=8)\n",
      "Error processing sample Data(y=[1], pos=[41, 3], z=[41], mol_id=3039, i=9)\n",
      "Error processing sample Data(y=[1], pos=[41, 3], z=[41], mol_id=3039, i=10)\n",
      "Error processing sample Data(y=[1], pos=[41, 3], z=[41], mol_id=3039, i=11)\n",
      "Error processing sample Data(y=[1], pos=[41, 3], z=[41], mol_id=3039, i=12)\n",
      "Error processing sample Data(y=[1], pos=[41, 3], z=[41], mol_id=3039, i=13)\n",
      "Error processing sample Data(y=[1], pos=[41, 3], z=[41], mol_id=3039, i=14)\n",
      "Error processing sample Data(y=[1], pos=[41, 3], z=[41], mol_id=3039, i=15)\n",
      "Error processing sample Data(y=[1], pos=[41, 3], z=[41], mol_id=3039, i=16)\n"
     ]
    },
    {
     "name": "stderr",
     "output_type": "stream",
     "text": [
      "  7%|▋         | 133486/1781073 [07:49<2:29:01, 184.27it/s]"
     ]
    },
    {
     "name": "stdout",
     "output_type": "stream",
     "text": [
      "Error processing sample Data(y=[1], pos=[41, 3], z=[41], mol_id=3039, i=17)\n",
      "Error processing sample Data(y=[1], pos=[41, 3], z=[41], mol_id=3039, i=18)\n",
      "Error processing sample Data(y=[1], pos=[41, 3], z=[41], mol_id=3039, i=19)\n",
      "Error processing sample Data(y=[1], pos=[41, 3], z=[41], mol_id=3039, i=20)\n",
      "Error processing sample Data(y=[1], pos=[41, 3], z=[41], mol_id=3039, i=21)\n",
      "Error processing sample Data(y=[1], pos=[41, 3], z=[41], mol_id=3039, i=22)\n",
      "Error processing sample Data(y=[1], pos=[41, 3], z=[41], mol_id=3039, i=23)\n",
      "Error processing sample Data(y=[1], pos=[41, 3], z=[41], mol_id=3039, i=24)\n",
      "Error processing sample Data(y=[1], pos=[41, 3], z=[41], mol_id=3039, i=25)\n",
      "Error processing sample Data(y=[1], pos=[41, 3], z=[41], mol_id=3039, i=26)\n",
      "Error processing sample Data(y=[1], pos=[41, 3], z=[41], mol_id=3039, i=27)\n",
      "Error processing sample Data(y=[1], pos=[41, 3], z=[41], mol_id=3039, i=28)\n",
      "Error processing sample Data(y=[1], pos=[41, 3], z=[41], mol_id=3039, i=29)\n",
      "Error processing sample Data(y=[1], pos=[41, 3], z=[41], mol_id=3039, i=30)\n",
      "Error processing sample Data(y=[1], pos=[41, 3], z=[41], mol_id=3039, i=31)\n",
      "Error processing sample Data(y=[1], pos=[41, 3], z=[41], mol_id=3039, i=32)\n",
      "Error processing sample Data(y=[1], pos=[41, 3], z=[41], mol_id=3039, i=33)\n"
     ]
    },
    {
     "name": "stderr",
     "output_type": "stream",
     "text": [
      "  7%|▋         | 133509/1781073 [07:49<3:16:59, 139.39it/s]"
     ]
    },
    {
     "name": "stdout",
     "output_type": "stream",
     "text": [
      "Error processing sample Data(y=[1], pos=[41, 3], z=[41], mol_id=3039, i=34)\n",
      "Error processing sample Data(y=[1], pos=[41, 3], z=[41], mol_id=3039, i=35)\n",
      "Error processing sample Data(y=[1], pos=[41, 3], z=[41], mol_id=3039, i=36)\n",
      "Error processing sample Data(y=[1], pos=[41, 3], z=[41], mol_id=3039, i=37)\n",
      "Error processing sample Data(y=[1], pos=[41, 3], z=[41], mol_id=3039, i=38)\n",
      "Error processing sample Data(y=[1], pos=[41, 3], z=[41], mol_id=3039, i=39)\n",
      "Error processing sample Data(y=[1], pos=[41, 3], z=[41], mol_id=3039, i=40)\n",
      "Error processing sample Data(y=[1], pos=[41, 3], z=[41], mol_id=3039, i=41)\n",
      "Error processing sample Data(y=[1], pos=[41, 3], z=[41], mol_id=3039, i=42)\n",
      "Error processing sample Data(y=[1], pos=[41, 3], z=[41], mol_id=3039, i=43)\n",
      "Error processing sample Data(y=[1], pos=[41, 3], z=[41], mol_id=3039, i=44)\n",
      "Error processing sample Data(y=[1], pos=[41, 3], z=[41], mol_id=3039, i=45)\n",
      "Error processing sample Data(y=[1], pos=[41, 3], z=[41], mol_id=3039, i=46)\n",
      "Error processing sample Data(y=[1], pos=[41, 3], z=[41], mol_id=3039, i=47)\n",
      "Error processing sample Data(y=[1], pos=[41, 3], z=[41], mol_id=3039, i=48)\n",
      "Error processing sample Data(y=[1], pos=[41, 3], z=[41], mol_id=3039, i=49)\n",
      "Error processing sample Data(y=[1], pos=[41, 3], z=[41], mol_id=3039, i=50)\n"
     ]
    },
    {
     "name": "stderr",
     "output_type": "stream",
     "text": [
      "  9%|▉         | 161943/1781073 [09:29<2:06:39, 213.05it/s]"
     ]
    },
    {
     "name": "stdout",
     "output_type": "stream",
     "text": [
      "Error processing sample Data(y=[1], pos=[41, 3], z=[41], mol_id=3091, i=1)\n",
      "Error processing sample Data(y=[1], pos=[41, 3], z=[41], mol_id=3091, i=2)\n",
      "Error processing sample Data(y=[1], pos=[41, 3], z=[41], mol_id=3091, i=3)\n",
      "Error processing sample Data(y=[1], pos=[41, 3], z=[41], mol_id=3091, i=4)\n",
      "Error processing sample Data(y=[1], pos=[41, 3], z=[41], mol_id=3091, i=5)\n",
      "Error processing sample Data(y=[1], pos=[41, 3], z=[41], mol_id=3091, i=6)\n",
      "Error processing sample Data(y=[1], pos=[41, 3], z=[41], mol_id=3091, i=7)\n",
      "Error processing sample Data(y=[1], pos=[41, 3], z=[41], mol_id=3091, i=8)\n",
      "Error processing sample Data(y=[1], pos=[41, 3], z=[41], mol_id=3091, i=9)\n",
      "Error processing sample Data(y=[1], pos=[41, 3], z=[41], mol_id=3091, i=10)\n",
      "Error processing sample Data(y=[1], pos=[41, 3], z=[41], mol_id=3091, i=11)\n",
      "Error processing sample Data(y=[1], pos=[41, 3], z=[41], mol_id=3091, i=12)\n",
      "Error processing sample Data(y=[1], pos=[41, 3], z=[41], mol_id=3091, i=13)\n",
      "Error processing sample Data(y=[1], pos=[41, 3], z=[41], mol_id=3091, i=14)\n",
      "Error processing sample Data(y=[1], pos=[41, 3], z=[41], mol_id=3091, i=15)\n",
      "Error processing sample Data(y=[1], pos=[41, 3], z=[41], mol_id=3091, i=16)\n",
      "Error processing sample Data(y=[1], pos=[41, 3], z=[41], mol_id=3091, i=17)\n",
      "Error processing sample Data(y=[1], pos=[41, 3], z=[41], mol_id=3091, i=18)\n",
      "Error processing sample Data(y=[1], pos=[41, 3], z=[41], mol_id=3091, i=19)\n",
      "Error processing sample Data(y=[1], pos=[41, 3], z=[41], mol_id=3091, i=20)\n",
      "Error processing sample Data(y=[1], pos=[41, 3], z=[41], mol_id=3091, i=21)\n",
      "Error processing sample Data(y=[1], pos=[41, 3], z=[41], mol_id=3091, i=22)\n",
      "Error processing sample Data(y=[1], pos=[41, 3], z=[41], mol_id=3091, i=23)\n",
      "Error processing sample Data(y=[1], pos=[41, 3], z=[41], mol_id=3091, i=24)\n",
      "Error processing sample Data(y=[1], pos=[41, 3], z=[41], mol_id=3091, i=25)\n",
      "Error processing sample Data(y=[1], pos=[41, 3], z=[41], mol_id=3091, i=26)\n",
      "Error processing sample Data(y=[1], pos=[41, 3], z=[41], mol_id=3091, i=27)\n",
      "Error processing sample Data(y=[1], pos=[41, 3], z=[41], mol_id=3091, i=28)\n",
      "Error processing sample Data(y=[1], pos=[41, 3], z=[41], mol_id=3091, i=29)\n",
      "Error processing sample Data(y=[1], pos=[41, 3], z=[41], mol_id=3091, i=30)\n",
      "Error processing sample Data(y=[1], pos=[41, 3], z=[41], mol_id=3091, i=31)\n",
      "Error processing sample Data(y=[1], pos=[41, 3], z=[41], mol_id=3091, i=32)\n",
      "Error processing sample Data(y=[1], pos=[41, 3], z=[41], mol_id=3091, i=33)\n",
      "Error processing sample Data(y=[1], pos=[41, 3], z=[41], mol_id=3091, i=34)\n",
      "Error processing sample Data(y=[1], pos=[41, 3], z=[41], mol_id=3091, i=35)\n"
     ]
    },
    {
     "name": "stderr",
     "output_type": "stream",
     "text": [
      "  9%|▉         | 161969/1781073 [09:30<2:55:22, 153.87it/s]"
     ]
    },
    {
     "name": "stdout",
     "output_type": "stream",
     "text": [
      "Error processing sample Data(y=[1], pos=[41, 3], z=[41], mol_id=3091, i=36)\n",
      "Error processing sample Data(y=[1], pos=[41, 3], z=[41], mol_id=3091, i=37)\n",
      "Error processing sample Data(y=[1], pos=[41, 3], z=[41], mol_id=3091, i=38)\n",
      "Error processing sample Data(y=[1], pos=[41, 3], z=[41], mol_id=3091, i=39)\n",
      "Error processing sample Data(y=[1], pos=[41, 3], z=[41], mol_id=3091, i=40)\n",
      "Error processing sample Data(y=[1], pos=[41, 3], z=[41], mol_id=3091, i=41)\n",
      "Error processing sample Data(y=[1], pos=[41, 3], z=[41], mol_id=3091, i=42)\n",
      "Error processing sample Data(y=[1], pos=[41, 3], z=[41], mol_id=3091, i=43)\n",
      "Error processing sample Data(y=[1], pos=[41, 3], z=[41], mol_id=3091, i=44)\n",
      "Error processing sample Data(y=[1], pos=[41, 3], z=[41], mol_id=3091, i=45)\n",
      "Error processing sample Data(y=[1], pos=[41, 3], z=[41], mol_id=3091, i=46)\n",
      "Error processing sample Data(y=[1], pos=[41, 3], z=[41], mol_id=3091, i=47)\n",
      "Error processing sample Data(y=[1], pos=[41, 3], z=[41], mol_id=3091, i=48)\n",
      "Error processing sample Data(y=[1], pos=[41, 3], z=[41], mol_id=3091, i=49)\n",
      "Error processing sample Data(y=[1], pos=[41, 3], z=[41], mol_id=3091, i=50)\n"
     ]
    },
    {
     "name": "stderr",
     "output_type": "stream",
     "text": [
      " 45%|████▌     | 805609/1781073 [45:58<1:10:44, 229.84it/s]"
     ]
    },
    {
     "name": "stdout",
     "output_type": "stream",
     "text": [
      "Error processing sample Data(y=[1], pos=[46, 3], z=[46], mol_id=27616, i=1)\n",
      "Error processing sample Data(y=[1], pos=[46, 3], z=[46], mol_id=27616, i=2)\n",
      "Error processing sample Data(y=[1], pos=[46, 3], z=[46], mol_id=27616, i=3)\n",
      "Error processing sample Data(y=[1], pos=[46, 3], z=[46], mol_id=27616, i=4)\n",
      "Error processing sample Data(y=[1], pos=[46, 3], z=[46], mol_id=27616, i=5)\n",
      "Error processing sample Data(y=[1], pos=[46, 3], z=[46], mol_id=27616, i=6)\n",
      "Error processing sample Data(y=[1], pos=[46, 3], z=[46], mol_id=27616, i=7)\n",
      "Error processing sample Data(y=[1], pos=[46, 3], z=[46], mol_id=27616, i=8)\n",
      "Error processing sample Data(y=[1], pos=[46, 3], z=[46], mol_id=27616, i=9)\n",
      "Error processing sample Data(y=[1], pos=[46, 3], z=[46], mol_id=27616, i=10)\n",
      "Error processing sample Data(y=[1], pos=[46, 3], z=[46], mol_id=27616, i=11)\n",
      "Error processing sample Data(y=[1], pos=[46, 3], z=[46], mol_id=27616, i=12)\n",
      "Error processing sample Data(y=[1], pos=[46, 3], z=[46], mol_id=27616, i=13)\n",
      "Error processing sample Data(y=[1], pos=[46, 3], z=[46], mol_id=27616, i=14)\n",
      "Error processing sample Data(y=[1], pos=[46, 3], z=[46], mol_id=27616, i=15)\n",
      "Error processing sample Data(y=[1], pos=[46, 3], z=[46], mol_id=27616, i=16)\n",
      "Error processing sample Data(y=[1], pos=[46, 3], z=[46], mol_id=27616, i=17)\n",
      "Error processing sample Data(y=[1], pos=[46, 3], z=[46], mol_id=27616, i=18)\n",
      "Error processing sample Data(y=[1], pos=[46, 3], z=[46], mol_id=27616, i=19)\n",
      "Error processing sample Data(y=[1], pos=[46, 3], z=[46], mol_id=27616, i=20)\n",
      "Error processing sample Data(y=[1], pos=[46, 3], z=[46], mol_id=27616, i=21)\n",
      "Error processing sample Data(y=[1], pos=[46, 3], z=[46], mol_id=27616, i=22)\n",
      "Error processing sample Data(y=[1], pos=[46, 3], z=[46], mol_id=27616, i=23)\n",
      "Error processing sample Data(y=[1], pos=[46, 3], z=[46], mol_id=27616, i=24)\n",
      "Error processing sample Data(y=[1], pos=[46, 3], z=[46], mol_id=27616, i=25)\n",
      "Error processing sample Data(y=[1], pos=[46, 3], z=[46], mol_id=27616, i=26)\n",
      "Error processing sample Data(y=[1], pos=[46, 3], z=[46], mol_id=27616, i=27)\n",
      "Error processing sample Data(y=[1], pos=[46, 3], z=[46], mol_id=27616, i=28)\n",
      "Error processing sample Data(y=[1], pos=[46, 3], z=[46], mol_id=27616, i=29)\n",
      "Error processing sample Data(y=[1], pos=[46, 3], z=[46], mol_id=27616, i=30)\n",
      "Error processing sample Data(y=[1], pos=[46, 3], z=[46], mol_id=27616, i=31)\n",
      "Error processing sample Data(y=[1], pos=[46, 3], z=[46], mol_id=27616, i=32)\n",
      "Error processing sample Data(y=[1], pos=[46, 3], z=[46], mol_id=27616, i=33)\n",
      "Error processing sample Data(y=[1], pos=[46, 3], z=[46], mol_id=27616, i=34)\n",
      "Error processing sample Data(y=[1], pos=[46, 3], z=[46], mol_id=27616, i=35)\n"
     ]
    },
    {
     "name": "stderr",
     "output_type": "stream",
     "text": [
      " 45%|████▌     | 805635/1781073 [45:59<1:43:10, 157.57it/s]"
     ]
    },
    {
     "name": "stdout",
     "output_type": "stream",
     "text": [
      "Error processing sample Data(y=[1], pos=[46, 3], z=[46], mol_id=27616, i=36)\n",
      "Error processing sample Data(y=[1], pos=[46, 3], z=[46], mol_id=27616, i=37)\n",
      "Error processing sample Data(y=[1], pos=[46, 3], z=[46], mol_id=27616, i=38)\n",
      "Error processing sample Data(y=[1], pos=[46, 3], z=[46], mol_id=27616, i=39)\n",
      "Error processing sample Data(y=[1], pos=[46, 3], z=[46], mol_id=27616, i=40)\n",
      "Error processing sample Data(y=[1], pos=[46, 3], z=[46], mol_id=27616, i=41)\n",
      "Error processing sample Data(y=[1], pos=[46, 3], z=[46], mol_id=27616, i=42)\n",
      "Error processing sample Data(y=[1], pos=[46, 3], z=[46], mol_id=27616, i=43)\n",
      "Error processing sample Data(y=[1], pos=[46, 3], z=[46], mol_id=27616, i=44)\n",
      "Error processing sample Data(y=[1], pos=[46, 3], z=[46], mol_id=27616, i=45)\n",
      "Error processing sample Data(y=[1], pos=[46, 3], z=[46], mol_id=27616, i=46)\n",
      "Error processing sample Data(y=[1], pos=[46, 3], z=[46], mol_id=27616, i=47)\n",
      "Error processing sample Data(y=[1], pos=[46, 3], z=[46], mol_id=27616, i=48)\n"
     ]
    },
    {
     "name": "stderr",
     "output_type": "stream",
     "text": [
      " 45%|████▌     | 805678/1781073 [45:59<1:49:21, 148.66it/s]"
     ]
    },
    {
     "name": "stdout",
     "output_type": "stream",
     "text": [
      "Error processing sample Data(y=[1], pos=[46, 3], z=[46], mol_id=27616, i=49)\n",
      "Error processing sample Data(y=[1], pos=[46, 3], z=[46], mol_id=27616, i=50)\n"
     ]
    },
    {
     "name": "stderr",
     "output_type": "stream",
     "text": [
      " 56%|█████▌    | 995727/1781073 [56:46<1:00:21, 216.87it/s]"
     ]
    },
    {
     "name": "stdout",
     "output_type": "stream",
     "text": [
      "Error processing sample Data(y=[1], pos=[40, 3], z=[40], mol_id=18284, i=1)\n",
      "Error processing sample Data(y=[1], pos=[40, 3], z=[40], mol_id=18284, i=2)\n",
      "Error processing sample Data(y=[1], pos=[40, 3], z=[40], mol_id=18284, i=3)\n",
      "Error processing sample Data(y=[1], pos=[40, 3], z=[40], mol_id=18284, i=4)\n",
      "Error processing sample Data(y=[1], pos=[40, 3], z=[40], mol_id=18284, i=5)\n",
      "Error processing sample Data(y=[1], pos=[40, 3], z=[40], mol_id=18284, i=6)\n",
      "Error processing sample Data(y=[1], pos=[40, 3], z=[40], mol_id=18284, i=7)\n",
      "Error processing sample Data(y=[1], pos=[40, 3], z=[40], mol_id=18284, i=8)\n",
      "Error processing sample Data(y=[1], pos=[40, 3], z=[40], mol_id=18284, i=9)\n",
      "Error processing sample Data(y=[1], pos=[40, 3], z=[40], mol_id=18284, i=10)\n",
      "Error processing sample Data(y=[1], pos=[40, 3], z=[40], mol_id=18284, i=11)\n",
      "Error processing sample Data(y=[1], pos=[40, 3], z=[40], mol_id=18284, i=12)\n"
     ]
    },
    {
     "name": "stderr",
     "output_type": "stream",
     "text": [
      " 56%|█████▌    | 995752/1781073 [56:47<1:33:36, 139.82it/s]"
     ]
    },
    {
     "name": "stdout",
     "output_type": "stream",
     "text": [
      "Error processing sample Data(y=[1], pos=[40, 3], z=[40], mol_id=18284, i=13)\n",
      "Error processing sample Data(y=[1], pos=[40, 3], z=[40], mol_id=18284, i=14)\n",
      "Error processing sample Data(y=[1], pos=[40, 3], z=[40], mol_id=18284, i=15)\n",
      "Error processing sample Data(y=[1], pos=[40, 3], z=[40], mol_id=18284, i=16)\n",
      "Error processing sample Data(y=[1], pos=[40, 3], z=[40], mol_id=18284, i=17)\n",
      "Error processing sample Data(y=[1], pos=[40, 3], z=[40], mol_id=18284, i=18)\n",
      "Error processing sample Data(y=[1], pos=[40, 3], z=[40], mol_id=18284, i=19)\n",
      "Error processing sample Data(y=[1], pos=[40, 3], z=[40], mol_id=18284, i=20)\n",
      "Error processing sample Data(y=[1], pos=[40, 3], z=[40], mol_id=18284, i=21)\n",
      "Error processing sample Data(y=[1], pos=[40, 3], z=[40], mol_id=18284, i=22)\n",
      "Error processing sample Data(y=[1], pos=[40, 3], z=[40], mol_id=18284, i=23)\n",
      "Error processing sample Data(y=[1], pos=[40, 3], z=[40], mol_id=18284, i=24)\n",
      "Error processing sample Data(y=[1], pos=[40, 3], z=[40], mol_id=18284, i=25)\n",
      "Error processing sample Data(y=[1], pos=[40, 3], z=[40], mol_id=18284, i=26)\n",
      "Error processing sample Data(y=[1], pos=[40, 3], z=[40], mol_id=18284, i=27)\n",
      "Error processing sample Data(y=[1], pos=[40, 3], z=[40], mol_id=18284, i=28)\n",
      "Error processing sample Data(y=[1], pos=[40, 3], z=[40], mol_id=18284, i=29)\n"
     ]
    },
    {
     "name": "stderr",
     "output_type": "stream",
     "text": [
      " 56%|█████▌    | 995772/1781073 [56:47<1:47:12, 122.09it/s]"
     ]
    },
    {
     "name": "stdout",
     "output_type": "stream",
     "text": [
      "Error processing sample Data(y=[1], pos=[40, 3], z=[40], mol_id=18284, i=30)\n",
      "Error processing sample Data(y=[1], pos=[40, 3], z=[40], mol_id=18284, i=31)\n",
      "Error processing sample Data(y=[1], pos=[40, 3], z=[40], mol_id=18284, i=32)\n",
      "Error processing sample Data(y=[1], pos=[40, 3], z=[40], mol_id=18284, i=33)\n",
      "Error processing sample Data(y=[1], pos=[40, 3], z=[40], mol_id=18284, i=34)\n",
      "Error processing sample Data(y=[1], pos=[40, 3], z=[40], mol_id=18284, i=35)\n",
      "Error processing sample Data(y=[1], pos=[40, 3], z=[40], mol_id=18284, i=36)\n",
      "Error processing sample Data(y=[1], pos=[40, 3], z=[40], mol_id=18284, i=37)\n",
      "Error processing sample Data(y=[1], pos=[40, 3], z=[40], mol_id=18284, i=38)\n",
      "Error processing sample Data(y=[1], pos=[40, 3], z=[40], mol_id=18284, i=39)\n",
      "Error processing sample Data(y=[1], pos=[40, 3], z=[40], mol_id=18284, i=40)\n",
      "Error processing sample Data(y=[1], pos=[40, 3], z=[40], mol_id=18284, i=41)\n",
      "Error processing sample Data(y=[1], pos=[40, 3], z=[40], mol_id=18284, i=42)\n",
      "Error processing sample Data(y=[1], pos=[40, 3], z=[40], mol_id=18284, i=43)\n",
      "Error processing sample Data(y=[1], pos=[40, 3], z=[40], mol_id=18284, i=44)\n",
      "Error processing sample Data(y=[1], pos=[40, 3], z=[40], mol_id=18284, i=45)\n",
      "Error processing sample Data(y=[1], pos=[40, 3], z=[40], mol_id=18284, i=46)\n",
      "Error processing sample Data(y=[1], pos=[40, 3], z=[40], mol_id=18284, i=47)\n"
     ]
    },
    {
     "name": "stderr",
     "output_type": "stream",
     "text": [
      " 56%|█████▌    | 995818/1781073 [56:47<1:24:09, 155.51it/s]"
     ]
    },
    {
     "name": "stdout",
     "output_type": "stream",
     "text": [
      "Error processing sample Data(y=[1], pos=[40, 3], z=[40], mol_id=18284, i=48)\n",
      "Error processing sample Data(y=[1], pos=[40, 3], z=[40], mol_id=18284, i=49)\n",
      "Error processing sample Data(y=[1], pos=[40, 3], z=[40], mol_id=18284, i=50)\n"
     ]
    },
    {
     "name": "stderr",
     "output_type": "stream",
     "text": [
      " 58%|█████▊    | 1034443/1781073 [58:58<49:58, 249.04it/s] "
     ]
    },
    {
     "name": "stdout",
     "output_type": "stream",
     "text": [
      "Error processing sample Data(y=[1], pos=[19, 3], z=[19], mol_id=7246, i=1)\n",
      "Error processing sample Data(y=[1], pos=[19, 3], z=[19], mol_id=7246, i=2)\n",
      "Error processing sample Data(y=[1], pos=[19, 3], z=[19], mol_id=7246, i=3)\n",
      "Error processing sample Data(y=[1], pos=[19, 3], z=[19], mol_id=7246, i=4)\n",
      "Error processing sample Data(y=[1], pos=[19, 3], z=[19], mol_id=7246, i=5)\n",
      "Error processing sample Data(y=[1], pos=[19, 3], z=[19], mol_id=7246, i=6)\n",
      "Error processing sample Data(y=[1], pos=[19, 3], z=[19], mol_id=7246, i=7)\n",
      "Error processing sample Data(y=[1], pos=[19, 3], z=[19], mol_id=7246, i=8)\n",
      "Error processing sample Data(y=[1], pos=[19, 3], z=[19], mol_id=7246, i=9)\n",
      "Error processing sample Data(y=[1], pos=[19, 3], z=[19], mol_id=7246, i=10)\n",
      "Error processing sample Data(y=[1], pos=[19, 3], z=[19], mol_id=7246, i=11)\n",
      "Error processing sample Data(y=[1], pos=[19, 3], z=[19], mol_id=7246, i=12)\n",
      "Error processing sample Data(y=[1], pos=[19, 3], z=[19], mol_id=7246, i=13)\n",
      "Error processing sample Data(y=[1], pos=[19, 3], z=[19], mol_id=7246, i=14)\n",
      "Error processing sample Data(y=[1], pos=[19, 3], z=[19], mol_id=7246, i=15)\n",
      "Error processing sample Data(y=[1], pos=[19, 3], z=[19], mol_id=7246, i=16)\n",
      "Error processing sample Data(y=[1], pos=[19, 3], z=[19], mol_id=7246, i=17)\n",
      "Error processing sample Data(y=[1], pos=[19, 3], z=[19], mol_id=7246, i=18)\n",
      "Error processing sample Data(y=[1], pos=[19, 3], z=[19], mol_id=7246, i=19)\n",
      "Error processing sample Data(y=[1], pos=[19, 3], z=[19], mol_id=7246, i=20)\n",
      "Error processing sample Data(y=[1], pos=[19, 3], z=[19], mol_id=7246, i=21)\n",
      "Error processing sample Data(y=[1], pos=[19, 3], z=[19], mol_id=7246, i=22)\n",
      "Error processing sample Data(y=[1], pos=[19, 3], z=[19], mol_id=7246, i=23)\n",
      "Error processing sample Data(y=[1], pos=[19, 3], z=[19], mol_id=7246, i=24)\n",
      "Error processing sample Data(y=[1], pos=[19, 3], z=[19], mol_id=7246, i=25)\n",
      "Error processing sample Data(y=[1], pos=[19, 3], z=[19], mol_id=7246, i=26)\n",
      "Error processing sample Data(y=[1], pos=[19, 3], z=[19], mol_id=7246, i=27)\n",
      "Error processing sample Data(y=[1], pos=[19, 3], z=[19], mol_id=7246, i=28)\n",
      "Error processing sample Data(y=[1], pos=[19, 3], z=[19], mol_id=7246, i=29)\n",
      "Error processing sample Data(y=[1], pos=[19, 3], z=[19], mol_id=7246, i=30)\n",
      "Error processing sample Data(y=[1], pos=[19, 3], z=[19], mol_id=7246, i=31)\n",
      "Error processing sample Data(y=[1], pos=[19, 3], z=[19], mol_id=7246, i=32)\n",
      "Error processing sample Data(y=[1], pos=[19, 3], z=[19], mol_id=7246, i=33)\n",
      "Error processing sample Data(y=[1], pos=[19, 3], z=[19], mol_id=7246, i=34)\n",
      "Error processing sample Data(y=[1], pos=[19, 3], z=[19], mol_id=7246, i=35)\n"
     ]
    },
    {
     "name": "stderr",
     "output_type": "stream",
     "text": [
      " 58%|█████▊    | 1034470/1781073 [58:58<1:15:40, 164.43it/s]"
     ]
    },
    {
     "name": "stdout",
     "output_type": "stream",
     "text": [
      "Error processing sample Data(y=[1], pos=[19, 3], z=[19], mol_id=7246, i=36)\n",
      "Error processing sample Data(y=[1], pos=[19, 3], z=[19], mol_id=7246, i=37)\n",
      "Error processing sample Data(y=[1], pos=[19, 3], z=[19], mol_id=7246, i=38)\n",
      "Error processing sample Data(y=[1], pos=[19, 3], z=[19], mol_id=7246, i=39)\n",
      "Error processing sample Data(y=[1], pos=[19, 3], z=[19], mol_id=7246, i=40)\n",
      "Error processing sample Data(y=[1], pos=[19, 3], z=[19], mol_id=7246, i=41)\n",
      "Error processing sample Data(y=[1], pos=[19, 3], z=[19], mol_id=7246, i=42)\n",
      "Error processing sample Data(y=[1], pos=[19, 3], z=[19], mol_id=7246, i=43)\n",
      "Error processing sample Data(y=[1], pos=[19, 3], z=[19], mol_id=7246, i=44)\n",
      "Error processing sample Data(y=[1], pos=[19, 3], z=[19], mol_id=7246, i=45)\n",
      "Error processing sample Data(y=[1], pos=[19, 3], z=[19], mol_id=7246, i=46)\n",
      "Error processing sample Data(y=[1], pos=[19, 3], z=[19], mol_id=7246, i=47)\n",
      "Error processing sample Data(y=[1], pos=[19, 3], z=[19], mol_id=7246, i=48)\n",
      "Error processing sample Data(y=[1], pos=[19, 3], z=[19], mol_id=7246, i=49)\n"
     ]
    },
    {
     "name": "stderr",
     "output_type": "stream",
     "text": [
      " 58%|█████▊    | 1034527/1781073 [58:59<1:10:34, 176.32it/s]"
     ]
    },
    {
     "name": "stdout",
     "output_type": "stream",
     "text": [
      "Error processing sample Data(y=[1], pos=[19, 3], z=[19], mol_id=7246, i=50)\n"
     ]
    },
    {
     "name": "stderr",
     "output_type": "stream",
     "text": [
      " 76%|███████▌  | 1344983/1781073 [1:16:29<53:44, 135.22it/s]"
     ]
    },
    {
     "name": "stdout",
     "output_type": "stream",
     "text": [
      "Error processing sample Data(y=[1], pos=[13, 3], z=[13], mol_id=44311, i=1)\n",
      "Error processing sample Data(y=[1], pos=[13, 3], z=[13], mol_id=44311, i=2)\n",
      "Error processing sample Data(y=[1], pos=[13, 3], z=[13], mol_id=44311, i=3)\n",
      "Error processing sample Data(y=[1], pos=[13, 3], z=[13], mol_id=44311, i=4)\n",
      "Error processing sample Data(y=[1], pos=[13, 3], z=[13], mol_id=44311, i=5)\n",
      "Error processing sample Data(y=[1], pos=[13, 3], z=[13], mol_id=44311, i=6)\n",
      "Error processing sample Data(y=[1], pos=[13, 3], z=[13], mol_id=44311, i=7)\n",
      "Error processing sample Data(y=[1], pos=[13, 3], z=[13], mol_id=44311, i=8)\n",
      "Error processing sample Data(y=[1], pos=[13, 3], z=[13], mol_id=44311, i=9)\n",
      "Error processing sample Data(y=[1], pos=[13, 3], z=[13], mol_id=44311, i=10)\n",
      "Error processing sample Data(y=[1], pos=[13, 3], z=[13], mol_id=44311, i=11)\n",
      "Error processing sample Data(y=[1], pos=[13, 3], z=[13], mol_id=44311, i=12)\n",
      "Error processing sample Data(y=[1], pos=[13, 3], z=[13], mol_id=44311, i=13)\n",
      "Error processing sample Data(y=[1], pos=[13, 3], z=[13], mol_id=44311, i=14)\n",
      "Error processing sample Data(y=[1], pos=[13, 3], z=[13], mol_id=44311, i=15)\n"
     ]
    },
    {
     "name": "stderr",
     "output_type": "stream",
     "text": [
      " 76%|███████▌  | 1345006/1781073 [1:16:29<1:01:22, 118.43it/s]"
     ]
    },
    {
     "name": "stdout",
     "output_type": "stream",
     "text": [
      "Error processing sample Data(y=[1], pos=[13, 3], z=[13], mol_id=44311, i=16)\n",
      "Error processing sample Data(y=[1], pos=[13, 3], z=[13], mol_id=44311, i=17)\n",
      "Error processing sample Data(y=[1], pos=[13, 3], z=[13], mol_id=44311, i=18)\n",
      "Error processing sample Data(y=[1], pos=[13, 3], z=[13], mol_id=44311, i=19)\n",
      "Error processing sample Data(y=[1], pos=[13, 3], z=[13], mol_id=44311, i=20)\n",
      "Error processing sample Data(y=[1], pos=[13, 3], z=[13], mol_id=44311, i=21)\n",
      "Error processing sample Data(y=[1], pos=[13, 3], z=[13], mol_id=44311, i=22)\n",
      "Error processing sample Data(y=[1], pos=[13, 3], z=[13], mol_id=44311, i=23)\n",
      "Error processing sample Data(y=[1], pos=[13, 3], z=[13], mol_id=44311, i=24)\n",
      "Error processing sample Data(y=[1], pos=[13, 3], z=[13], mol_id=44311, i=25)\n",
      "Error processing sample Data(y=[1], pos=[13, 3], z=[13], mol_id=44311, i=26)\n",
      "Error processing sample Data(y=[1], pos=[13, 3], z=[13], mol_id=44311, i=27)\n",
      "Error processing sample Data(y=[1], pos=[13, 3], z=[13], mol_id=44311, i=28)\n",
      "Error processing sample Data(y=[1], pos=[13, 3], z=[13], mol_id=44311, i=29)\n",
      "Error processing sample Data(y=[1], pos=[13, 3], z=[13], mol_id=44311, i=30)\n",
      "Error processing sample Data(y=[1], pos=[13, 3], z=[13], mol_id=44311, i=31)\n",
      "Error processing sample Data(y=[1], pos=[13, 3], z=[13], mol_id=44311, i=32)\n",
      "Error processing sample Data(y=[1], pos=[13, 3], z=[13], mol_id=44311, i=33)\n"
     ]
    },
    {
     "name": "stderr",
     "output_type": "stream",
     "text": [
      " 76%|███████▌  | 1345025/1781073 [1:16:29<1:05:10, 111.50it/s]"
     ]
    },
    {
     "name": "stdout",
     "output_type": "stream",
     "text": [
      "Error processing sample Data(y=[1], pos=[13, 3], z=[13], mol_id=44311, i=34)\n",
      "Error processing sample Data(y=[1], pos=[13, 3], z=[13], mol_id=44311, i=35)\n",
      "Error processing sample Data(y=[1], pos=[13, 3], z=[13], mol_id=44311, i=36)\n",
      "Error processing sample Data(y=[1], pos=[13, 3], z=[13], mol_id=44311, i=37)\n",
      "Error processing sample Data(y=[1], pos=[13, 3], z=[13], mol_id=44311, i=38)\n",
      "Error processing sample Data(y=[1], pos=[13, 3], z=[13], mol_id=44311, i=39)\n",
      "Error processing sample Data(y=[1], pos=[13, 3], z=[13], mol_id=44311, i=40)\n",
      "Error processing sample Data(y=[1], pos=[13, 3], z=[13], mol_id=44311, i=41)\n",
      "Error processing sample Data(y=[1], pos=[13, 3], z=[13], mol_id=44311, i=42)\n",
      "Error processing sample Data(y=[1], pos=[13, 3], z=[13], mol_id=44311, i=43)\n",
      "Error processing sample Data(y=[1], pos=[13, 3], z=[13], mol_id=44311, i=44)\n",
      "Error processing sample Data(y=[1], pos=[13, 3], z=[13], mol_id=44311, i=45)\n",
      "Error processing sample Data(y=[1], pos=[13, 3], z=[13], mol_id=44311, i=46)\n",
      "Error processing sample Data(y=[1], pos=[13, 3], z=[13], mol_id=44311, i=47)\n",
      "Error processing sample Data(y=[1], pos=[13, 3], z=[13], mol_id=44311, i=48)\n",
      "Error processing sample Data(y=[1], pos=[13, 3], z=[13], mol_id=44311, i=49)\n",
      "Error processing sample Data(y=[1], pos=[13, 3], z=[13], mol_id=44311, i=50)\n"
     ]
    },
    {
     "name": "stderr",
     "output_type": "stream",
     "text": [
      " 99%|█████████▉| 1761344/1781073 [1:39:28<01:15, 261.49it/s]  "
     ]
    },
    {
     "name": "stdout",
     "output_type": "stream",
     "text": [
      "Error processing sample Data(y=[1], pos=[32, 3], z=[32], mol_id=44018, i=1)\n",
      "Error processing sample Data(y=[1], pos=[32, 3], z=[32], mol_id=44018, i=2)\n",
      "Error processing sample Data(y=[1], pos=[32, 3], z=[32], mol_id=44018, i=3)\n",
      "Error processing sample Data(y=[1], pos=[32, 3], z=[32], mol_id=44018, i=4)\n",
      "Error processing sample Data(y=[1], pos=[32, 3], z=[32], mol_id=44018, i=5)\n",
      "Error processing sample Data(y=[1], pos=[32, 3], z=[32], mol_id=44018, i=6)\n",
      "Error processing sample Data(y=[1], pos=[32, 3], z=[32], mol_id=44018, i=7)\n",
      "Error processing sample Data(y=[1], pos=[32, 3], z=[32], mol_id=44018, i=8)\n",
      "Error processing sample Data(y=[1], pos=[32, 3], z=[32], mol_id=44018, i=9)\n",
      "Error processing sample Data(y=[1], pos=[32, 3], z=[32], mol_id=44018, i=10)\n",
      "Error processing sample Data(y=[1], pos=[32, 3], z=[32], mol_id=44018, i=11)\n",
      "Error processing sample Data(y=[1], pos=[32, 3], z=[32], mol_id=44018, i=12)\n",
      "Error processing sample Data(y=[1], pos=[32, 3], z=[32], mol_id=44018, i=13)\n",
      "Error processing sample Data(y=[1], pos=[32, 3], z=[32], mol_id=44018, i=14)\n",
      "Error processing sample Data(y=[1], pos=[32, 3], z=[32], mol_id=44018, i=15)\n",
      "Error processing sample Data(y=[1], pos=[32, 3], z=[32], mol_id=44018, i=16)\n",
      "Error processing sample Data(y=[1], pos=[32, 3], z=[32], mol_id=44018, i=17)\n",
      "Error processing sample Data(y=[1], pos=[32, 3], z=[32], mol_id=44018, i=18)\n",
      "Error processing sample Data(y=[1], pos=[32, 3], z=[32], mol_id=44018, i=19)\n",
      "Error processing sample Data(y=[1], pos=[32, 3], z=[32], mol_id=44018, i=20)\n",
      "Error processing sample Data(y=[1], pos=[32, 3], z=[32], mol_id=44018, i=21)\n",
      "Error processing sample Data(y=[1], pos=[32, 3], z=[32], mol_id=44018, i=22)\n",
      "Error processing sample Data(y=[1], pos=[32, 3], z=[32], mol_id=44018, i=23)\n",
      "Error processing sample Data(y=[1], pos=[32, 3], z=[32], mol_id=44018, i=24)\n",
      "Error processing sample Data(y=[1], pos=[32, 3], z=[32], mol_id=44018, i=25)\n",
      "Error processing sample Data(y=[1], pos=[32, 3], z=[32], mol_id=44018, i=26)\n",
      "Error processing sample Data(y=[1], pos=[32, 3], z=[32], mol_id=44018, i=27)\n",
      "Error processing sample Data(y=[1], pos=[32, 3], z=[32], mol_id=44018, i=28)\n",
      "Error processing sample Data(y=[1], pos=[32, 3], z=[32], mol_id=44018, i=29)\n",
      "Error processing sample Data(y=[1], pos=[32, 3], z=[32], mol_id=44018, i=30)\n",
      "Error processing sample Data(y=[1], pos=[32, 3], z=[32], mol_id=44018, i=31)\n",
      "Error processing sample Data(y=[1], pos=[32, 3], z=[32], mol_id=44018, i=32)\n",
      "Error processing sample Data(y=[1], pos=[32, 3], z=[32], mol_id=44018, i=33)\n"
     ]
    },
    {
     "name": "stderr",
     "output_type": "stream",
     "text": [
      " 99%|█████████▉| 1761372/1781073 [1:39:28<02:00, 164.04it/s]"
     ]
    },
    {
     "name": "stdout",
     "output_type": "stream",
     "text": [
      "Error processing sample Data(y=[1], pos=[32, 3], z=[32], mol_id=44018, i=34)\n",
      "Error processing sample Data(y=[1], pos=[32, 3], z=[32], mol_id=44018, i=35)\n",
      "Error processing sample Data(y=[1], pos=[32, 3], z=[32], mol_id=44018, i=36)\n",
      "Error processing sample Data(y=[1], pos=[32, 3], z=[32], mol_id=44018, i=37)\n",
      "Error processing sample Data(y=[1], pos=[32, 3], z=[32], mol_id=44018, i=38)\n",
      "Error processing sample Data(y=[1], pos=[32, 3], z=[32], mol_id=44018, i=39)\n",
      "Error processing sample Data(y=[1], pos=[32, 3], z=[32], mol_id=44018, i=40)\n",
      "Error processing sample Data(y=[1], pos=[32, 3], z=[32], mol_id=44018, i=41)\n",
      "Error processing sample Data(y=[1], pos=[32, 3], z=[32], mol_id=44018, i=42)\n",
      "Error processing sample Data(y=[1], pos=[32, 3], z=[32], mol_id=44018, i=43)\n",
      "Error processing sample Data(y=[1], pos=[32, 3], z=[32], mol_id=44018, i=44)\n",
      "Error processing sample Data(y=[1], pos=[32, 3], z=[32], mol_id=44018, i=45)\n",
      "Error processing sample Data(y=[1], pos=[32, 3], z=[32], mol_id=44018, i=46)\n",
      "Error processing sample Data(y=[1], pos=[32, 3], z=[32], mol_id=44018, i=47)\n",
      "Error processing sample Data(y=[1], pos=[32, 3], z=[32], mol_id=44018, i=48)\n",
      "Error processing sample Data(y=[1], pos=[32, 3], z=[32], mol_id=44018, i=49)\n",
      "Error processing sample Data(y=[1], pos=[32, 3], z=[32], mol_id=44018, i=50)\n"
     ]
    },
    {
     "name": "stderr",
     "output_type": "stream",
     "text": [
      "100%|██████████| 1781073/1781073 [1:40:33<00:00, 295.22it/s]\n"
     ]
    }
   ],
   "source": [
    "bads = []\n",
    "for i in tqdm(range(len(X))):\n",
    "    try:\n",
    "        out = model(Batch.from_data_list([X[i]]).to(device))\n",
    "    except RuntimeError as e:\n",
    "        print(f\"Error processing sample {X[i]}\")\n",
    "        bads.append(X[i])"
   ]
  },
  {
   "cell_type": "code",
   "execution_count": 10,
   "id": "43a40208-6fc5-4216-987f-10d06e82e815",
   "metadata": {},
   "outputs": [
    {
     "data": {
      "text/plain": [
       "8.0"
      ]
     },
     "execution_count": 10,
     "metadata": {},
     "output_type": "execute_result"
    }
   ],
   "source": [
    "len(bads)/50"
   ]
  },
  {
   "cell_type": "code",
   "execution_count": 22,
   "id": "878958cb-9f50-4fe5-87aa-4e504badb7fc",
   "metadata": {},
   "outputs": [
    {
     "data": {
      "text/plain": [
       "{2.54211688041687,\n",
       " 2.6342971324920654,\n",
       " 2.9159841537475586,\n",
       " 3.0732991695404053,\n",
       " 3.227167844772339,\n",
       " 4.15582275390625,\n",
       " 4.653680324554443}"
      ]
     },
     "execution_count": 22,
     "metadata": {},
     "output_type": "execute_result"
    }
   ],
   "source": [
    "mols_ids = set([float(x.y[0]) for x in bads])\n",
    "mols_ids"
   ]
  },
  {
   "cell_type": "code",
   "execution_count": 7,
   "id": "589548f0-6462-4bb4-aa7e-a571a971b0ff",
   "metadata": {
    "collapsed": true,
    "jupyter": {
     "outputs_hidden": true
    },
    "tags": []
   },
   "outputs": [
    {
     "name": "stdout",
     "output_type": "stream",
     "text": [
      "#Params: 1890118\n",
      "\n",
      "=====Epoch 1\n",
      "\n",
      "Training...\n"
     ]
    },
    {
     "name": "stderr",
     "output_type": "stream",
     "text": [
      "100%|██████████| 764/764 [01:38<00:00,  7.77it/s]"
     ]
    },
    {
     "name": "stdout",
     "output_type": "stream",
     "text": [
      "\n",
      "\n",
      "Evaluating...\n"
     ]
    },
    {
     "name": "stderr",
     "output_type": "stream",
     "text": [
      "\n",
      "100%|██████████| 219/219 [00:14<00:00, 14.89it/s]"
     ]
    },
    {
     "name": "stdout",
     "output_type": "stream",
     "text": [
      "\n",
      "\n",
      "Testing...\n"
     ]
    },
    {
     "name": "stderr",
     "output_type": "stream",
     "text": [
      "\n",
      "100%|██████████| 110/110 [00:07<00:00, 14.76it/s]\n"
     ]
    },
    {
     "name": "stdout",
     "output_type": "stream",
     "text": [
      "\n",
      "{'Train': 0.35715635721596123, 'Validation': 0.40657857060432434, 'Test': 0.4080550968647003}\n",
      "Saving checkpoint...\n",
      "\n",
      "=====Epoch 2\n",
      "\n",
      "Training...\n"
     ]
    },
    {
     "name": "stderr",
     "output_type": "stream",
     "text": [
      "100%|██████████| 764/764 [01:38<00:00,  7.76it/s]"
     ]
    },
    {
     "name": "stdout",
     "output_type": "stream",
     "text": [
      "\n",
      "\n",
      "Evaluating...\n"
     ]
    },
    {
     "name": "stderr",
     "output_type": "stream",
     "text": [
      "\n",
      "100%|██████████| 219/219 [00:15<00:00, 14.56it/s]"
     ]
    },
    {
     "name": "stdout",
     "output_type": "stream",
     "text": [
      "\n",
      "\n",
      "Testing...\n"
     ]
    },
    {
     "name": "stderr",
     "output_type": "stream",
     "text": [
      "\n",
      "100%|██████████| 110/110 [00:07<00:00, 14.73it/s]"
     ]
    },
    {
     "name": "stdout",
     "output_type": "stream",
     "text": [
      "\n",
      "{'Train': 0.34823035649682216, 'Validation': 0.45125913619995117, 'Test': 0.4549703896045685}\n",
      "\n",
      "=====Epoch 3\n",
      "\n",
      "Training...\n"
     ]
    },
    {
     "name": "stderr",
     "output_type": "stream",
     "text": [
      "\n",
      "100%|██████████| 764/764 [01:38<00:00,  7.78it/s]"
     ]
    },
    {
     "name": "stdout",
     "output_type": "stream",
     "text": [
      "\n",
      "\n",
      "Evaluating...\n"
     ]
    },
    {
     "name": "stderr",
     "output_type": "stream",
     "text": [
      "\n",
      "100%|██████████| 219/219 [00:14<00:00, 14.81it/s]"
     ]
    },
    {
     "name": "stdout",
     "output_type": "stream",
     "text": [
      "\n",
      "\n",
      "Testing...\n"
     ]
    },
    {
     "name": "stderr",
     "output_type": "stream",
     "text": [
      "\n",
      "100%|██████████| 110/110 [00:07<00:00, 14.58it/s]"
     ]
    },
    {
     "name": "stdout",
     "output_type": "stream",
     "text": [
      "\n",
      "{'Train': 0.3415818651114147, 'Validation': 0.479525625705719, 'Test': 0.4807261526584625}\n",
      "\n",
      "=====Epoch 4\n",
      "\n",
      "Training...\n"
     ]
    },
    {
     "name": "stderr",
     "output_type": "stream",
     "text": [
      "\n",
      "100%|██████████| 764/764 [01:38<00:00,  7.77it/s]"
     ]
    },
    {
     "name": "stdout",
     "output_type": "stream",
     "text": [
      "\n",
      "\n",
      "Evaluating...\n"
     ]
    },
    {
     "name": "stderr",
     "output_type": "stream",
     "text": [
      "\n",
      "100%|██████████| 219/219 [00:14<00:00, 14.94it/s]"
     ]
    },
    {
     "name": "stdout",
     "output_type": "stream",
     "text": [
      "\n",
      "\n",
      "Testing...\n"
     ]
    },
    {
     "name": "stderr",
     "output_type": "stream",
     "text": [
      "\n",
      "100%|██████████| 110/110 [00:07<00:00, 14.64it/s]"
     ]
    },
    {
     "name": "stdout",
     "output_type": "stream",
     "text": [
      "\n",
      "{'Train': 0.33688614673483436, 'Validation': 0.4219396114349365, 'Test': 0.4206642508506775}\n",
      "\n",
      "=====Epoch 5\n",
      "\n",
      "Training...\n"
     ]
    },
    {
     "name": "stderr",
     "output_type": "stream",
     "text": [
      "\n",
      "100%|██████████| 764/764 [01:38<00:00,  7.76it/s]"
     ]
    },
    {
     "name": "stdout",
     "output_type": "stream",
     "text": [
      "\n",
      "\n",
      "Evaluating...\n"
     ]
    },
    {
     "name": "stderr",
     "output_type": "stream",
     "text": [
      "\n",
      "100%|██████████| 219/219 [00:14<00:00, 14.80it/s]"
     ]
    },
    {
     "name": "stdout",
     "output_type": "stream",
     "text": [
      "\n",
      "\n",
      "Testing...\n"
     ]
    },
    {
     "name": "stderr",
     "output_type": "stream",
     "text": [
      "\n",
      "100%|██████████| 110/110 [00:07<00:00, 14.65it/s]\n"
     ]
    },
    {
     "name": "stdout",
     "output_type": "stream",
     "text": [
      "\n",
      "{'Train': 0.32911448379617714, 'Validation': 0.39387625455856323, 'Test': 0.3922771215438843}\n",
      "Saving checkpoint...\n",
      "\n",
      "=====Epoch 6\n",
      "\n",
      "Training...\n"
     ]
    },
    {
     "name": "stderr",
     "output_type": "stream",
     "text": [
      "100%|██████████| 764/764 [01:38<00:00,  7.78it/s]"
     ]
    },
    {
     "name": "stdout",
     "output_type": "stream",
     "text": [
      "\n",
      "\n",
      "Evaluating...\n"
     ]
    },
    {
     "name": "stderr",
     "output_type": "stream",
     "text": [
      "\n",
      "100%|██████████| 219/219 [00:14<00:00, 14.81it/s]"
     ]
    },
    {
     "name": "stdout",
     "output_type": "stream",
     "text": [
      "\n",
      "\n",
      "Testing...\n"
     ]
    },
    {
     "name": "stderr",
     "output_type": "stream",
     "text": [
      "\n",
      "100%|██████████| 110/110 [00:07<00:00, 14.67it/s]"
     ]
    },
    {
     "name": "stdout",
     "output_type": "stream",
     "text": [
      "\n",
      "{'Train': 0.3114702647542142, 'Validation': 0.3984488546848297, 'Test': 0.39664968848228455}\n",
      "\n",
      "=====Epoch 7\n",
      "\n",
      "Training...\n"
     ]
    },
    {
     "name": "stderr",
     "output_type": "stream",
     "text": [
      "\n",
      "100%|██████████| 764/764 [01:38<00:00,  7.75it/s]"
     ]
    },
    {
     "name": "stdout",
     "output_type": "stream",
     "text": [
      "\n",
      "\n",
      "Evaluating...\n"
     ]
    },
    {
     "name": "stderr",
     "output_type": "stream",
     "text": [
      "\n",
      "100%|██████████| 219/219 [00:14<00:00, 14.76it/s]"
     ]
    },
    {
     "name": "stdout",
     "output_type": "stream",
     "text": [
      "\n",
      "\n",
      "Testing...\n"
     ]
    },
    {
     "name": "stderr",
     "output_type": "stream",
     "text": [
      "\n",
      "100%|██████████| 110/110 [00:07<00:00, 15.01it/s]"
     ]
    },
    {
     "name": "stdout",
     "output_type": "stream",
     "text": [
      "\n",
      "{'Train': 0.3098661450191318, 'Validation': 0.40917372703552246, 'Test': 0.4052508473396301}\n",
      "\n",
      "=====Epoch 8\n",
      "\n",
      "Training...\n"
     ]
    },
    {
     "name": "stderr",
     "output_type": "stream",
     "text": [
      "\n",
      "100%|██████████| 764/764 [01:38<00:00,  7.75it/s]"
     ]
    },
    {
     "name": "stdout",
     "output_type": "stream",
     "text": [
      "\n",
      "\n",
      "Evaluating...\n"
     ]
    },
    {
     "name": "stderr",
     "output_type": "stream",
     "text": [
      "\n",
      "100%|██████████| 219/219 [00:14<00:00, 15.01it/s]"
     ]
    },
    {
     "name": "stdout",
     "output_type": "stream",
     "text": [
      "\n",
      "\n",
      "Testing...\n"
     ]
    },
    {
     "name": "stderr",
     "output_type": "stream",
     "text": [
      "\n",
      "100%|██████████| 110/110 [00:07<00:00, 14.83it/s]\n"
     ]
    },
    {
     "name": "stdout",
     "output_type": "stream",
     "text": [
      "\n",
      "{'Train': 0.3101204718360726, 'Validation': 0.39380526542663574, 'Test': 0.39203041791915894}\n",
      "Saving checkpoint...\n",
      "\n",
      "=====Epoch 9\n",
      "\n",
      "Training...\n"
     ]
    },
    {
     "name": "stderr",
     "output_type": "stream",
     "text": [
      "100%|██████████| 764/764 [01:38<00:00,  7.77it/s]"
     ]
    },
    {
     "name": "stdout",
     "output_type": "stream",
     "text": [
      "\n",
      "\n",
      "Evaluating...\n"
     ]
    },
    {
     "name": "stderr",
     "output_type": "stream",
     "text": [
      "\n",
      "100%|██████████| 219/219 [00:14<00:00, 14.89it/s]"
     ]
    },
    {
     "name": "stdout",
     "output_type": "stream",
     "text": [
      "\n",
      "\n",
      "Testing...\n"
     ]
    },
    {
     "name": "stderr",
     "output_type": "stream",
     "text": [
      "\n",
      "100%|██████████| 110/110 [00:07<00:00, 14.66it/s]"
     ]
    },
    {
     "name": "stdout",
     "output_type": "stream",
     "text": [
      "\n",
      "{'Train': 0.30250567494262576, 'Validation': 0.4082309305667877, 'Test': 0.40088778734207153}\n",
      "\n",
      "=====Epoch 10\n",
      "\n",
      "Training...\n"
     ]
    },
    {
     "name": "stderr",
     "output_type": "stream",
     "text": [
      "\n",
      "100%|██████████| 764/764 [01:39<00:00,  7.72it/s]"
     ]
    },
    {
     "name": "stdout",
     "output_type": "stream",
     "text": [
      "\n",
      "\n",
      "Evaluating...\n"
     ]
    },
    {
     "name": "stderr",
     "output_type": "stream",
     "text": [
      "\n",
      "100%|██████████| 219/219 [00:14<00:00, 14.98it/s]"
     ]
    },
    {
     "name": "stdout",
     "output_type": "stream",
     "text": [
      "\n",
      "\n",
      "Testing...\n"
     ]
    },
    {
     "name": "stderr",
     "output_type": "stream",
     "text": [
      "\n",
      "100%|██████████| 110/110 [00:07<00:00, 14.83it/s]"
     ]
    },
    {
     "name": "stdout",
     "output_type": "stream",
     "text": [
      "\n",
      "{'Train': 0.29458849594309067, 'Validation': 0.41694802045822144, 'Test': 0.41626086831092834}\n",
      "\n",
      "=====Epoch 11\n",
      "\n",
      "Training...\n"
     ]
    },
    {
     "name": "stderr",
     "output_type": "stream",
     "text": [
      "\n",
      "100%|██████████| 764/764 [01:39<00:00,  7.71it/s]"
     ]
    },
    {
     "name": "stdout",
     "output_type": "stream",
     "text": [
      "\n",
      "\n",
      "Evaluating...\n"
     ]
    },
    {
     "name": "stderr",
     "output_type": "stream",
     "text": [
      "\n",
      "100%|██████████| 219/219 [00:14<00:00, 14.89it/s]"
     ]
    },
    {
     "name": "stdout",
     "output_type": "stream",
     "text": [
      "\n",
      "\n",
      "Testing...\n"
     ]
    },
    {
     "name": "stderr",
     "output_type": "stream",
     "text": [
      "\n",
      "100%|██████████| 110/110 [00:07<00:00, 14.83it/s]"
     ]
    },
    {
     "name": "stdout",
     "output_type": "stream",
     "text": [
      "\n",
      "{'Train': 0.29532442756816357, 'Validation': 0.3993096649646759, 'Test': 0.3974945843219757}\n",
      "\n",
      "=====Epoch 12\n",
      "\n",
      "Training...\n"
     ]
    },
    {
     "name": "stderr",
     "output_type": "stream",
     "text": [
      "\n",
      "100%|██████████| 764/764 [01:40<00:00,  7.63it/s]"
     ]
    },
    {
     "name": "stdout",
     "output_type": "stream",
     "text": [
      "\n",
      "\n",
      "Evaluating...\n"
     ]
    },
    {
     "name": "stderr",
     "output_type": "stream",
     "text": [
      "\n",
      "100%|██████████| 219/219 [00:14<00:00, 14.65it/s]"
     ]
    },
    {
     "name": "stdout",
     "output_type": "stream",
     "text": [
      "\n",
      "\n",
      "Testing...\n"
     ]
    },
    {
     "name": "stderr",
     "output_type": "stream",
     "text": [
      "\n",
      "100%|██████████| 110/110 [00:07<00:00, 14.95it/s]"
     ]
    },
    {
     "name": "stdout",
     "output_type": "stream",
     "text": [
      "\n",
      "{'Train': 0.2849222074082385, 'Validation': 0.4598179757595062, 'Test': 0.4617363512516022}\n",
      "\n",
      "=====Epoch 13\n",
      "\n",
      "Training...\n"
     ]
    },
    {
     "name": "stderr",
     "output_type": "stream",
     "text": [
      "\n",
      "100%|██████████| 764/764 [01:39<00:00,  7.71it/s]"
     ]
    },
    {
     "name": "stdout",
     "output_type": "stream",
     "text": [
      "\n",
      "\n",
      "Evaluating...\n"
     ]
    },
    {
     "name": "stderr",
     "output_type": "stream",
     "text": [
      "\n",
      "100%|██████████| 219/219 [00:14<00:00, 14.96it/s]"
     ]
    },
    {
     "name": "stdout",
     "output_type": "stream",
     "text": [
      "\n",
      "\n",
      "Testing...\n"
     ]
    },
    {
     "name": "stderr",
     "output_type": "stream",
     "text": [
      "\n",
      "100%|██████████| 110/110 [00:07<00:00, 14.83it/s]"
     ]
    },
    {
     "name": "stdout",
     "output_type": "stream",
     "text": [
      "\n",
      "{'Train': 0.2742687659289356, 'Validation': 0.4171472489833832, 'Test': 0.4247213900089264}\n",
      "\n",
      "=====Epoch 14\n",
      "\n",
      "Training...\n"
     ]
    },
    {
     "name": "stderr",
     "output_type": "stream",
     "text": [
      "\n",
      "100%|██████████| 764/764 [01:39<00:00,  7.72it/s]"
     ]
    },
    {
     "name": "stdout",
     "output_type": "stream",
     "text": [
      "\n",
      "\n",
      "Evaluating...\n"
     ]
    },
    {
     "name": "stderr",
     "output_type": "stream",
     "text": [
      "\n",
      "100%|██████████| 219/219 [00:14<00:00, 15.08it/s]"
     ]
    },
    {
     "name": "stdout",
     "output_type": "stream",
     "text": [
      "\n",
      "\n",
      "Testing...\n"
     ]
    },
    {
     "name": "stderr",
     "output_type": "stream",
     "text": [
      "\n",
      "100%|██████████| 110/110 [00:07<00:00, 14.89it/s]"
     ]
    },
    {
     "name": "stdout",
     "output_type": "stream",
     "text": [
      "\n",
      "{'Train': 0.2860607105594967, 'Validation': 0.40484848618507385, 'Test': 0.40290817618370056}\n",
      "\n",
      "=====Epoch 15\n",
      "\n",
      "Training...\n"
     ]
    },
    {
     "name": "stderr",
     "output_type": "stream",
     "text": [
      "\n",
      "100%|██████████| 764/764 [01:38<00:00,  7.72it/s]"
     ]
    },
    {
     "name": "stdout",
     "output_type": "stream",
     "text": [
      "\n",
      "\n",
      "Evaluating...\n"
     ]
    },
    {
     "name": "stderr",
     "output_type": "stream",
     "text": [
      "\n",
      "100%|██████████| 219/219 [00:14<00:00, 14.87it/s]"
     ]
    },
    {
     "name": "stdout",
     "output_type": "stream",
     "text": [
      "\n",
      "\n",
      "Testing...\n"
     ]
    },
    {
     "name": "stderr",
     "output_type": "stream",
     "text": [
      "\n",
      "100%|██████████| 110/110 [00:07<00:00, 14.99it/s]"
     ]
    },
    {
     "name": "stdout",
     "output_type": "stream",
     "text": [
      "\n",
      "{'Train': 0.2781976253691456, 'Validation': 0.399726003408432, 'Test': 0.39952367544174194}\n",
      "\n",
      "=====Epoch 16\n",
      "\n",
      "Training...\n"
     ]
    },
    {
     "name": "stderr",
     "output_type": "stream",
     "text": [
      "\n",
      "100%|██████████| 764/764 [01:39<00:00,  7.69it/s]"
     ]
    },
    {
     "name": "stdout",
     "output_type": "stream",
     "text": [
      "\n",
      "\n",
      "Evaluating...\n"
     ]
    },
    {
     "name": "stderr",
     "output_type": "stream",
     "text": [
      "\n",
      "100%|██████████| 219/219 [00:14<00:00, 14.95it/s]"
     ]
    },
    {
     "name": "stdout",
     "output_type": "stream",
     "text": [
      "\n",
      "\n",
      "Testing...\n"
     ]
    },
    {
     "name": "stderr",
     "output_type": "stream",
     "text": [
      "\n",
      "100%|██████████| 110/110 [00:07<00:00, 14.80it/s]\n"
     ]
    },
    {
     "name": "stdout",
     "output_type": "stream",
     "text": [
      "\n",
      "{'Train': 0.2439136957135344, 'Validation': 0.3856599032878876, 'Test': 0.38095995783805847}\n",
      "Saving checkpoint...\n",
      "\n",
      "=====Epoch 17\n",
      "\n",
      "Training...\n"
     ]
    },
    {
     "name": "stderr",
     "output_type": "stream",
     "text": [
      "100%|██████████| 764/764 [01:38<00:00,  7.72it/s]"
     ]
    },
    {
     "name": "stdout",
     "output_type": "stream",
     "text": [
      "\n",
      "\n",
      "Evaluating...\n"
     ]
    },
    {
     "name": "stderr",
     "output_type": "stream",
     "text": [
      "\n",
      "100%|██████████| 219/219 [00:14<00:00, 15.04it/s]"
     ]
    },
    {
     "name": "stdout",
     "output_type": "stream",
     "text": [
      "\n",
      "\n",
      "Testing...\n"
     ]
    },
    {
     "name": "stderr",
     "output_type": "stream",
     "text": [
      "\n",
      "100%|██████████| 110/110 [00:07<00:00, 14.90it/s]"
     ]
    },
    {
     "name": "stdout",
     "output_type": "stream",
     "text": [
      "\n",
      "{'Train': 0.20689634586738043, 'Validation': 0.385718435049057, 'Test': 0.38174328207969666}\n",
      "\n",
      "=====Epoch 18\n",
      "\n",
      "Training...\n"
     ]
    },
    {
     "name": "stderr",
     "output_type": "stream",
     "text": [
      "\n",
      "100%|██████████| 764/764 [01:39<00:00,  7.71it/s]"
     ]
    },
    {
     "name": "stdout",
     "output_type": "stream",
     "text": [
      "\n",
      "\n",
      "Evaluating...\n"
     ]
    },
    {
     "name": "stderr",
     "output_type": "stream",
     "text": [
      "\n",
      "100%|██████████| 219/219 [00:14<00:00, 15.07it/s]"
     ]
    },
    {
     "name": "stdout",
     "output_type": "stream",
     "text": [
      "\n",
      "\n",
      "Testing...\n"
     ]
    },
    {
     "name": "stderr",
     "output_type": "stream",
     "text": [
      "\n",
      "100%|██████████| 110/110 [00:07<00:00, 14.95it/s]"
     ]
    },
    {
     "name": "stdout",
     "output_type": "stream",
     "text": [
      "\n",
      "{'Train': 0.19026724456843594, 'Validation': 0.4010201394557953, 'Test': 0.3988141715526581}\n",
      "\n",
      "=====Epoch 19\n",
      "\n",
      "Training...\n"
     ]
    },
    {
     "name": "stderr",
     "output_type": "stream",
     "text": [
      "\n",
      "100%|██████████| 764/764 [01:39<00:00,  7.71it/s]"
     ]
    },
    {
     "name": "stdout",
     "output_type": "stream",
     "text": [
      "\n",
      "\n",
      "Evaluating...\n"
     ]
    },
    {
     "name": "stderr",
     "output_type": "stream",
     "text": [
      "\n",
      "100%|██████████| 219/219 [00:14<00:00, 15.05it/s]"
     ]
    },
    {
     "name": "stdout",
     "output_type": "stream",
     "text": [
      "\n",
      "\n",
      "Testing...\n"
     ]
    },
    {
     "name": "stderr",
     "output_type": "stream",
     "text": [
      "\n",
      "100%|██████████| 110/110 [00:07<00:00, 14.83it/s]"
     ]
    },
    {
     "name": "stdout",
     "output_type": "stream",
     "text": [
      "\n",
      "{'Train': 0.18478528693981508, 'Validation': 0.4292013347148895, 'Test': 0.4309922754764557}\n",
      "\n",
      "=====Epoch 20\n",
      "\n",
      "Training...\n"
     ]
    },
    {
     "name": "stderr",
     "output_type": "stream",
     "text": [
      "\n",
      "100%|██████████| 764/764 [01:39<00:00,  7.71it/s]"
     ]
    },
    {
     "name": "stdout",
     "output_type": "stream",
     "text": [
      "\n",
      "\n",
      "Evaluating...\n"
     ]
    },
    {
     "name": "stderr",
     "output_type": "stream",
     "text": [
      "\n",
      "100%|██████████| 219/219 [00:14<00:00, 15.01it/s]"
     ]
    },
    {
     "name": "stdout",
     "output_type": "stream",
     "text": [
      "\n",
      "\n",
      "Testing...\n"
     ]
    },
    {
     "name": "stderr",
     "output_type": "stream",
     "text": [
      "\n",
      "100%|██████████| 110/110 [00:07<00:00, 14.89it/s]"
     ]
    },
    {
     "name": "stdout",
     "output_type": "stream",
     "text": [
      "\n",
      "{'Train': 0.1888041060164337, 'Validation': 0.42054760456085205, 'Test': 0.41953951120376587}\n",
      "\n",
      "=====Epoch 21\n",
      "\n",
      "Training...\n"
     ]
    },
    {
     "name": "stderr",
     "output_type": "stream",
     "text": [
      "\n",
      "100%|██████████| 764/764 [01:38<00:00,  7.72it/s]"
     ]
    },
    {
     "name": "stdout",
     "output_type": "stream",
     "text": [
      "\n",
      "\n",
      "Evaluating...\n"
     ]
    },
    {
     "name": "stderr",
     "output_type": "stream",
     "text": [
      "\n",
      "100%|██████████| 219/219 [00:14<00:00, 14.88it/s]"
     ]
    },
    {
     "name": "stdout",
     "output_type": "stream",
     "text": [
      "\n",
      "\n",
      "Testing...\n"
     ]
    },
    {
     "name": "stderr",
     "output_type": "stream",
     "text": [
      "\n",
      "100%|██████████| 110/110 [00:07<00:00, 15.03it/s]"
     ]
    },
    {
     "name": "stdout",
     "output_type": "stream",
     "text": [
      "\n",
      "{'Train': 0.19450213181839876, 'Validation': 0.4272579550743103, 'Test': 0.42698371410369873}\n",
      "\n",
      "=====Epoch 22\n",
      "\n",
      "Training...\n"
     ]
    },
    {
     "name": "stderr",
     "output_type": "stream",
     "text": [
      "\n",
      "100%|██████████| 764/764 [01:38<00:00,  7.72it/s]"
     ]
    },
    {
     "name": "stdout",
     "output_type": "stream",
     "text": [
      "\n",
      "\n",
      "Evaluating...\n"
     ]
    },
    {
     "name": "stderr",
     "output_type": "stream",
     "text": [
      "\n",
      "100%|██████████| 219/219 [00:14<00:00, 15.00it/s]"
     ]
    },
    {
     "name": "stdout",
     "output_type": "stream",
     "text": [
      "\n",
      "\n",
      "Testing...\n"
     ]
    },
    {
     "name": "stderr",
     "output_type": "stream",
     "text": [
      "\n",
      "100%|██████████| 110/110 [00:07<00:00, 14.95it/s]"
     ]
    },
    {
     "name": "stdout",
     "output_type": "stream",
     "text": [
      "\n",
      "{'Train': 0.19699353939263609, 'Validation': 0.42861828207969666, 'Test': 0.4234330952167511}\n",
      "\n",
      "=====Epoch 23\n",
      "\n",
      "Training...\n"
     ]
    },
    {
     "name": "stderr",
     "output_type": "stream",
     "text": [
      "\n",
      "100%|██████████| 764/764 [01:39<00:00,  7.71it/s]"
     ]
    },
    {
     "name": "stdout",
     "output_type": "stream",
     "text": [
      "\n",
      "\n",
      "Evaluating...\n"
     ]
    },
    {
     "name": "stderr",
     "output_type": "stream",
     "text": [
      "\n",
      "100%|██████████| 219/219 [00:14<00:00, 14.98it/s]"
     ]
    },
    {
     "name": "stdout",
     "output_type": "stream",
     "text": [
      "\n",
      "\n",
      "Testing...\n"
     ]
    },
    {
     "name": "stderr",
     "output_type": "stream",
     "text": [
      "\n",
      "100%|██████████| 110/110 [00:07<00:00, 15.02it/s]"
     ]
    },
    {
     "name": "stdout",
     "output_type": "stream",
     "text": [
      "\n",
      "{'Train': 0.19441860858643553, 'Validation': 0.39442121982574463, 'Test': 0.3910606801509857}\n",
      "\n",
      "=====Epoch 24\n",
      "\n",
      "Training...\n"
     ]
    },
    {
     "name": "stderr",
     "output_type": "stream",
     "text": [
      "\n",
      "100%|██████████| 764/764 [01:39<00:00,  7.71it/s]"
     ]
    },
    {
     "name": "stdout",
     "output_type": "stream",
     "text": [
      "\n",
      "\n",
      "Evaluating...\n"
     ]
    },
    {
     "name": "stderr",
     "output_type": "stream",
     "text": [
      "\n",
      "100%|██████████| 219/219 [00:14<00:00, 15.07it/s]"
     ]
    },
    {
     "name": "stdout",
     "output_type": "stream",
     "text": [
      "\n",
      "\n",
      "Testing...\n"
     ]
    },
    {
     "name": "stderr",
     "output_type": "stream",
     "text": [
      "\n",
      "100%|██████████| 110/110 [00:07<00:00, 14.91it/s]"
     ]
    },
    {
     "name": "stdout",
     "output_type": "stream",
     "text": [
      "\n",
      "{'Train': 0.2004388727403748, 'Validation': 0.40959689021110535, 'Test': 0.40430670976638794}\n",
      "\n",
      "=====Epoch 25\n",
      "\n",
      "Training...\n"
     ]
    },
    {
     "name": "stderr",
     "output_type": "stream",
     "text": [
      "\n",
      "100%|██████████| 764/764 [01:39<00:00,  7.70it/s]"
     ]
    },
    {
     "name": "stdout",
     "output_type": "stream",
     "text": [
      "\n",
      "\n",
      "Evaluating...\n"
     ]
    },
    {
     "name": "stderr",
     "output_type": "stream",
     "text": [
      "\n",
      "100%|██████████| 219/219 [00:14<00:00, 14.85it/s]"
     ]
    },
    {
     "name": "stdout",
     "output_type": "stream",
     "text": [
      "\n",
      "\n",
      "Testing...\n"
     ]
    },
    {
     "name": "stderr",
     "output_type": "stream",
     "text": [
      "\n",
      "100%|██████████| 110/110 [00:07<00:00, 14.74it/s]"
     ]
    },
    {
     "name": "stdout",
     "output_type": "stream",
     "text": [
      "\n",
      "{'Train': 0.1863885607024294, 'Validation': 0.3964535593986511, 'Test': 0.3911673128604889}\n",
      "\n",
      "=====Epoch 26\n",
      "\n",
      "Training...\n"
     ]
    },
    {
     "name": "stderr",
     "output_type": "stream",
     "text": [
      "\n",
      "100%|██████████| 764/764 [01:39<00:00,  7.72it/s]"
     ]
    },
    {
     "name": "stdout",
     "output_type": "stream",
     "text": [
      "\n",
      "\n",
      "Evaluating...\n"
     ]
    },
    {
     "name": "stderr",
     "output_type": "stream",
     "text": [
      "\n",
      "100%|██████████| 219/219 [00:14<00:00, 14.78it/s]"
     ]
    },
    {
     "name": "stdout",
     "output_type": "stream",
     "text": [
      "\n",
      "\n",
      "Testing...\n"
     ]
    },
    {
     "name": "stderr",
     "output_type": "stream",
     "text": [
      "\n",
      "100%|██████████| 110/110 [00:07<00:00, 14.92it/s]"
     ]
    },
    {
     "name": "stdout",
     "output_type": "stream",
     "text": [
      "\n",
      "{'Train': 0.17876543327970967, 'Validation': 0.38770604133605957, 'Test': 0.3822861909866333}\n",
      "\n",
      "=====Epoch 27\n",
      "\n",
      "Training...\n"
     ]
    },
    {
     "name": "stderr",
     "output_type": "stream",
     "text": [
      "\n",
      "100%|██████████| 764/764 [01:38<00:00,  7.73it/s]"
     ]
    },
    {
     "name": "stdout",
     "output_type": "stream",
     "text": [
      "\n",
      "\n",
      "Evaluating...\n"
     ]
    },
    {
     "name": "stderr",
     "output_type": "stream",
     "text": [
      "\n",
      "100%|██████████| 219/219 [00:14<00:00, 15.07it/s]"
     ]
    },
    {
     "name": "stdout",
     "output_type": "stream",
     "text": [
      "\n",
      "\n",
      "Testing...\n"
     ]
    },
    {
     "name": "stderr",
     "output_type": "stream",
     "text": [
      "\n",
      "100%|██████████| 110/110 [00:07<00:00, 15.00it/s]\n"
     ]
    },
    {
     "name": "stdout",
     "output_type": "stream",
     "text": [
      "\n",
      "{'Train': 0.1832785410172652, 'Validation': 0.3839721381664276, 'Test': 0.3785738945007324}\n",
      "Saving checkpoint...\n",
      "\n",
      "=====Epoch 28\n",
      "\n",
      "Training...\n"
     ]
    },
    {
     "name": "stderr",
     "output_type": "stream",
     "text": [
      "100%|██████████| 764/764 [01:38<00:00,  7.72it/s]"
     ]
    },
    {
     "name": "stdout",
     "output_type": "stream",
     "text": [
      "\n",
      "\n",
      "Evaluating...\n"
     ]
    },
    {
     "name": "stderr",
     "output_type": "stream",
     "text": [
      "\n",
      "100%|██████████| 219/219 [00:14<00:00, 15.05it/s]"
     ]
    },
    {
     "name": "stdout",
     "output_type": "stream",
     "text": [
      "\n",
      "\n",
      "Testing...\n"
     ]
    },
    {
     "name": "stderr",
     "output_type": "stream",
     "text": [
      "\n",
      "100%|██████████| 110/110 [00:07<00:00, 14.74it/s]"
     ]
    },
    {
     "name": "stdout",
     "output_type": "stream",
     "text": [
      "\n",
      "{'Train': 0.18125528727136359, 'Validation': 0.4573669731616974, 'Test': 0.45421546697616577}\n",
      "\n",
      "=====Epoch 29\n",
      "\n",
      "Training...\n"
     ]
    },
    {
     "name": "stderr",
     "output_type": "stream",
     "text": [
      "\n",
      "100%|██████████| 764/764 [01:38<00:00,  7.73it/s]"
     ]
    },
    {
     "name": "stdout",
     "output_type": "stream",
     "text": [
      "\n",
      "\n",
      "Evaluating...\n"
     ]
    },
    {
     "name": "stderr",
     "output_type": "stream",
     "text": [
      "\n",
      "100%|██████████| 219/219 [00:14<00:00, 14.96it/s]"
     ]
    },
    {
     "name": "stdout",
     "output_type": "stream",
     "text": [
      "\n",
      "\n",
      "Testing...\n"
     ]
    },
    {
     "name": "stderr",
     "output_type": "stream",
     "text": [
      "\n",
      "100%|██████████| 110/110 [00:07<00:00, 14.81it/s]"
     ]
    },
    {
     "name": "stdout",
     "output_type": "stream",
     "text": [
      "\n",
      "{'Train': 0.18311981082508702, 'Validation': 0.4367489218711853, 'Test': 0.4363332688808441}\n",
      "\n",
      "=====Epoch 30\n",
      "\n",
      "Training...\n"
     ]
    },
    {
     "name": "stderr",
     "output_type": "stream",
     "text": [
      "\n",
      "100%|██████████| 764/764 [01:39<00:00,  7.68it/s]"
     ]
    },
    {
     "name": "stdout",
     "output_type": "stream",
     "text": [
      "\n",
      "\n",
      "Evaluating...\n"
     ]
    },
    {
     "name": "stderr",
     "output_type": "stream",
     "text": [
      "\n",
      "100%|██████████| 219/219 [00:14<00:00, 14.92it/s]"
     ]
    },
    {
     "name": "stdout",
     "output_type": "stream",
     "text": [
      "\n",
      "\n",
      "Testing...\n"
     ]
    },
    {
     "name": "stderr",
     "output_type": "stream",
     "text": [
      "\n",
      "100%|██████████| 110/110 [00:07<00:00, 14.90it/s]"
     ]
    },
    {
     "name": "stdout",
     "output_type": "stream",
     "text": [
      "\n",
      "{'Train': 0.17000562631334934, 'Validation': 0.39836934208869934, 'Test': 0.39927127957344055}\n",
      "\n",
      "=====Epoch 31\n",
      "\n",
      "Training...\n"
     ]
    },
    {
     "name": "stderr",
     "output_type": "stream",
     "text": [
      "\n",
      "100%|██████████| 764/764 [01:38<00:00,  7.74it/s]"
     ]
    },
    {
     "name": "stdout",
     "output_type": "stream",
     "text": [
      "\n",
      "\n",
      "Evaluating...\n"
     ]
    },
    {
     "name": "stderr",
     "output_type": "stream",
     "text": [
      "\n",
      "100%|██████████| 219/219 [00:14<00:00, 14.96it/s]"
     ]
    },
    {
     "name": "stdout",
     "output_type": "stream",
     "text": [
      "\n",
      "\n",
      "Testing...\n"
     ]
    },
    {
     "name": "stderr",
     "output_type": "stream",
     "text": [
      "\n",
      "100%|██████████| 110/110 [00:07<00:00, 14.97it/s]"
     ]
    },
    {
     "name": "stdout",
     "output_type": "stream",
     "text": [
      "\n",
      "{'Train': 0.15433344600907484, 'Validation': 0.3843117654323578, 'Test': 0.37703073024749756}\n",
      "\n",
      "=====Epoch 32\n",
      "\n",
      "Training...\n"
     ]
    },
    {
     "name": "stderr",
     "output_type": "stream",
     "text": [
      "\n",
      "100%|██████████| 764/764 [01:38<00:00,  7.73it/s]"
     ]
    },
    {
     "name": "stdout",
     "output_type": "stream",
     "text": [
      "\n",
      "\n",
      "Evaluating...\n"
     ]
    },
    {
     "name": "stderr",
     "output_type": "stream",
     "text": [
      "\n",
      "100%|██████████| 219/219 [00:14<00:00, 14.99it/s]"
     ]
    },
    {
     "name": "stdout",
     "output_type": "stream",
     "text": [
      "\n",
      "\n",
      "Testing...\n"
     ]
    },
    {
     "name": "stderr",
     "output_type": "stream",
     "text": [
      "\n",
      "100%|██████████| 110/110 [00:07<00:00, 15.01it/s]"
     ]
    },
    {
     "name": "stdout",
     "output_type": "stream",
     "text": [
      "\n",
      "{'Train': 0.11828959852222996, 'Validation': 0.3842719793319702, 'Test': 0.37865519523620605}\n",
      "\n",
      "=====Epoch 33\n",
      "\n",
      "Training...\n"
     ]
    },
    {
     "name": "stderr",
     "output_type": "stream",
     "text": [
      "\n",
      "100%|██████████| 764/764 [01:38<00:00,  7.72it/s]"
     ]
    },
    {
     "name": "stdout",
     "output_type": "stream",
     "text": [
      "\n",
      "\n",
      "Evaluating...\n"
     ]
    },
    {
     "name": "stderr",
     "output_type": "stream",
     "text": [
      "\n",
      "100%|██████████| 219/219 [00:14<00:00, 15.00it/s]"
     ]
    },
    {
     "name": "stdout",
     "output_type": "stream",
     "text": [
      "\n",
      "\n",
      "Testing...\n"
     ]
    },
    {
     "name": "stderr",
     "output_type": "stream",
     "text": [
      "\n",
      "100%|██████████| 110/110 [00:07<00:00, 15.01it/s]"
     ]
    },
    {
     "name": "stdout",
     "output_type": "stream",
     "text": [
      "\n",
      "{'Train': 0.10730792937010371, 'Validation': 0.388396292924881, 'Test': 0.3843991458415985}\n",
      "\n",
      "=====Epoch 34\n",
      "\n",
      "Training...\n"
     ]
    },
    {
     "name": "stderr",
     "output_type": "stream",
     "text": [
      "\n",
      "100%|██████████| 764/764 [01:39<00:00,  7.72it/s]"
     ]
    },
    {
     "name": "stdout",
     "output_type": "stream",
     "text": [
      "\n",
      "\n",
      "Evaluating...\n"
     ]
    },
    {
     "name": "stderr",
     "output_type": "stream",
     "text": [
      "\n",
      "100%|██████████| 219/219 [00:14<00:00, 14.72it/s]"
     ]
    },
    {
     "name": "stdout",
     "output_type": "stream",
     "text": [
      "\n",
      "\n",
      "Testing...\n"
     ]
    },
    {
     "name": "stderr",
     "output_type": "stream",
     "text": [
      "\n",
      "100%|██████████| 110/110 [00:07<00:00, 15.00it/s]"
     ]
    },
    {
     "name": "stdout",
     "output_type": "stream",
     "text": [
      "\n",
      "{'Train': 0.10955705316200931, 'Validation': 0.39874640107154846, 'Test': 0.39325597882270813}\n",
      "\n",
      "=====Epoch 35\n",
      "\n",
      "Training...\n"
     ]
    },
    {
     "name": "stderr",
     "output_type": "stream",
     "text": [
      "\n",
      "100%|██████████| 764/764 [01:39<00:00,  7.71it/s]"
     ]
    },
    {
     "name": "stdout",
     "output_type": "stream",
     "text": [
      "\n",
      "\n",
      "Evaluating...\n"
     ]
    },
    {
     "name": "stderr",
     "output_type": "stream",
     "text": [
      "\n",
      "100%|██████████| 219/219 [00:14<00:00, 14.92it/s]"
     ]
    },
    {
     "name": "stdout",
     "output_type": "stream",
     "text": [
      "\n",
      "\n",
      "Testing...\n"
     ]
    },
    {
     "name": "stderr",
     "output_type": "stream",
     "text": [
      "\n",
      "100%|██████████| 110/110 [00:07<00:00, 14.99it/s]\n"
     ]
    },
    {
     "name": "stdout",
     "output_type": "stream",
     "text": [
      "\n",
      "{'Train': 0.11620858729529288, 'Validation': 0.3806915879249573, 'Test': 0.37691646814346313}\n",
      "Saving checkpoint...\n",
      "\n",
      "=====Epoch 36\n",
      "\n",
      "Training...\n"
     ]
    },
    {
     "name": "stderr",
     "output_type": "stream",
     "text": [
      "100%|██████████| 764/764 [01:38<00:00,  7.73it/s]"
     ]
    },
    {
     "name": "stdout",
     "output_type": "stream",
     "text": [
      "\n",
      "\n",
      "Evaluating...\n"
     ]
    },
    {
     "name": "stderr",
     "output_type": "stream",
     "text": [
      "\n",
      "100%|██████████| 219/219 [00:14<00:00, 14.95it/s]"
     ]
    },
    {
     "name": "stdout",
     "output_type": "stream",
     "text": [
      "\n",
      "\n",
      "Testing...\n"
     ]
    },
    {
     "name": "stderr",
     "output_type": "stream",
     "text": [
      "\n",
      "100%|██████████| 110/110 [00:07<00:00, 14.97it/s]"
     ]
    },
    {
     "name": "stdout",
     "output_type": "stream",
     "text": [
      "\n",
      "{'Train': 0.11577646204645878, 'Validation': 0.3844563066959381, 'Test': 0.3811897039413452}\n",
      "\n",
      "=====Epoch 37\n",
      "\n",
      "Training...\n"
     ]
    },
    {
     "name": "stderr",
     "output_type": "stream",
     "text": [
      "\n",
      "100%|██████████| 764/764 [01:38<00:00,  7.72it/s]"
     ]
    },
    {
     "name": "stdout",
     "output_type": "stream",
     "text": [
      "\n",
      "\n",
      "Evaluating...\n"
     ]
    },
    {
     "name": "stderr",
     "output_type": "stream",
     "text": [
      "\n",
      "100%|██████████| 219/219 [00:14<00:00, 14.86it/s]"
     ]
    },
    {
     "name": "stdout",
     "output_type": "stream",
     "text": [
      "\n",
      "\n",
      "Testing...\n"
     ]
    },
    {
     "name": "stderr",
     "output_type": "stream",
     "text": [
      "\n",
      "100%|██████████| 110/110 [00:07<00:00, 14.93it/s]"
     ]
    },
    {
     "name": "stdout",
     "output_type": "stream",
     "text": [
      "\n",
      "{'Train': 0.12479284568567862, 'Validation': 0.38742130994796753, 'Test': 0.3846977949142456}\n",
      "\n",
      "=====Epoch 38\n",
      "\n",
      "Training...\n"
     ]
    },
    {
     "name": "stderr",
     "output_type": "stream",
     "text": [
      "\n",
      "100%|██████████| 764/764 [01:39<00:00,  7.71it/s]"
     ]
    },
    {
     "name": "stdout",
     "output_type": "stream",
     "text": [
      "\n",
      "\n",
      "Evaluating...\n"
     ]
    },
    {
     "name": "stderr",
     "output_type": "stream",
     "text": [
      "\n",
      "100%|██████████| 219/219 [00:14<00:00, 14.92it/s]"
     ]
    },
    {
     "name": "stdout",
     "output_type": "stream",
     "text": [
      "\n",
      "\n",
      "Testing...\n"
     ]
    },
    {
     "name": "stderr",
     "output_type": "stream",
     "text": [
      "\n",
      "100%|██████████| 110/110 [00:07<00:00, 14.93it/s]"
     ]
    },
    {
     "name": "stdout",
     "output_type": "stream",
     "text": [
      "\n",
      "{'Train': 0.12590745415694582, 'Validation': 0.3881998360157013, 'Test': 0.382254421710968}\n",
      "\n",
      "=====Epoch 39\n",
      "\n",
      "Training...\n"
     ]
    },
    {
     "name": "stderr",
     "output_type": "stream",
     "text": [
      "\n",
      "100%|██████████| 764/764 [01:38<00:00,  7.74it/s]"
     ]
    },
    {
     "name": "stdout",
     "output_type": "stream",
     "text": [
      "\n",
      "\n",
      "Evaluating...\n"
     ]
    },
    {
     "name": "stderr",
     "output_type": "stream",
     "text": [
      "\n",
      "100%|██████████| 219/219 [00:14<00:00, 14.87it/s]"
     ]
    },
    {
     "name": "stdout",
     "output_type": "stream",
     "text": [
      "\n",
      "\n",
      "Testing...\n"
     ]
    },
    {
     "name": "stderr",
     "output_type": "stream",
     "text": [
      "\n",
      "100%|██████████| 110/110 [00:07<00:00, 14.96it/s]"
     ]
    },
    {
     "name": "stdout",
     "output_type": "stream",
     "text": [
      "\n",
      "{'Train': 0.12436296309086041, 'Validation': 0.3902367055416107, 'Test': 0.38592687249183655}\n",
      "\n",
      "=====Epoch 40\n",
      "\n",
      "Training...\n"
     ]
    },
    {
     "name": "stderr",
     "output_type": "stream",
     "text": [
      "\n",
      "100%|██████████| 764/764 [01:38<00:00,  7.72it/s]"
     ]
    },
    {
     "name": "stdout",
     "output_type": "stream",
     "text": [
      "\n",
      "\n",
      "Evaluating...\n"
     ]
    },
    {
     "name": "stderr",
     "output_type": "stream",
     "text": [
      "\n",
      "100%|██████████| 219/219 [00:14<00:00, 14.89it/s]"
     ]
    },
    {
     "name": "stdout",
     "output_type": "stream",
     "text": [
      "\n",
      "\n",
      "Testing...\n"
     ]
    },
    {
     "name": "stderr",
     "output_type": "stream",
     "text": [
      "\n",
      "100%|██████████| 110/110 [00:07<00:00, 14.95it/s]"
     ]
    },
    {
     "name": "stdout",
     "output_type": "stream",
     "text": [
      "\n",
      "{'Train': 0.1227153059612004, 'Validation': 0.3922552764415741, 'Test': 0.3849084675312042}\n",
      "\n",
      "=====Epoch 41\n",
      "\n",
      "Training...\n"
     ]
    },
    {
     "name": "stderr",
     "output_type": "stream",
     "text": [
      "\n",
      "100%|██████████| 764/764 [01:38<00:00,  7.72it/s]"
     ]
    },
    {
     "name": "stdout",
     "output_type": "stream",
     "text": [
      "\n",
      "\n",
      "Evaluating...\n"
     ]
    },
    {
     "name": "stderr",
     "output_type": "stream",
     "text": [
      "\n",
      "100%|██████████| 219/219 [00:14<00:00, 15.10it/s]"
     ]
    },
    {
     "name": "stdout",
     "output_type": "stream",
     "text": [
      "\n",
      "\n",
      "Testing...\n"
     ]
    },
    {
     "name": "stderr",
     "output_type": "stream",
     "text": [
      "\n",
      "100%|██████████| 110/110 [00:07<00:00, 14.67it/s]"
     ]
    },
    {
     "name": "stdout",
     "output_type": "stream",
     "text": [
      "\n",
      "{'Train': 0.11323241344336128, 'Validation': 0.4055159091949463, 'Test': 0.3985287845134735}\n",
      "\n",
      "=====Epoch 42\n",
      "\n",
      "Training...\n"
     ]
    },
    {
     "name": "stderr",
     "output_type": "stream",
     "text": [
      "\n",
      "100%|██████████| 764/764 [01:38<00:00,  7.72it/s]"
     ]
    },
    {
     "name": "stdout",
     "output_type": "stream",
     "text": [
      "\n",
      "\n",
      "Evaluating...\n"
     ]
    },
    {
     "name": "stderr",
     "output_type": "stream",
     "text": [
      "\n",
      "100%|██████████| 219/219 [00:14<00:00, 14.83it/s]"
     ]
    },
    {
     "name": "stdout",
     "output_type": "stream",
     "text": [
      "\n",
      "\n",
      "Testing...\n"
     ]
    },
    {
     "name": "stderr",
     "output_type": "stream",
     "text": [
      "\n",
      "100%|██████████| 110/110 [00:07<00:00, 14.91it/s]"
     ]
    },
    {
     "name": "stdout",
     "output_type": "stream",
     "text": [
      "\n",
      "{'Train': 0.10951657819985876, 'Validation': 0.3883674740791321, 'Test': 0.383090615272522}\n",
      "\n",
      "=====Epoch 43\n",
      "\n",
      "Training...\n"
     ]
    },
    {
     "name": "stderr",
     "output_type": "stream",
     "text": [
      "\n",
      "100%|██████████| 764/764 [01:38<00:00,  7.73it/s]"
     ]
    },
    {
     "name": "stdout",
     "output_type": "stream",
     "text": [
      "\n",
      "\n",
      "Evaluating...\n"
     ]
    },
    {
     "name": "stderr",
     "output_type": "stream",
     "text": [
      "\n",
      "100%|██████████| 219/219 [00:14<00:00, 14.87it/s]"
     ]
    },
    {
     "name": "stdout",
     "output_type": "stream",
     "text": [
      "\n",
      "\n",
      "Testing...\n"
     ]
    },
    {
     "name": "stderr",
     "output_type": "stream",
     "text": [
      "\n",
      "100%|██████████| 110/110 [00:07<00:00, 14.80it/s]"
     ]
    },
    {
     "name": "stdout",
     "output_type": "stream",
     "text": [
      "\n",
      "{'Train': 0.1237409854922151, 'Validation': 0.3970455527305603, 'Test': 0.3930099904537201}\n",
      "\n",
      "=====Epoch 44\n",
      "\n",
      "Training...\n"
     ]
    },
    {
     "name": "stderr",
     "output_type": "stream",
     "text": [
      "\n",
      "100%|██████████| 764/764 [01:38<00:00,  7.77it/s]"
     ]
    },
    {
     "name": "stdout",
     "output_type": "stream",
     "text": [
      "\n",
      "\n",
      "Evaluating...\n"
     ]
    },
    {
     "name": "stderr",
     "output_type": "stream",
     "text": [
      "\n",
      "100%|██████████| 219/219 [00:14<00:00, 15.08it/s]"
     ]
    },
    {
     "name": "stdout",
     "output_type": "stream",
     "text": [
      "\n",
      "\n",
      "Testing...\n"
     ]
    },
    {
     "name": "stderr",
     "output_type": "stream",
     "text": [
      "\n",
      "100%|██████████| 110/110 [00:07<00:00, 15.07it/s]"
     ]
    },
    {
     "name": "stdout",
     "output_type": "stream",
     "text": [
      "\n",
      "{'Train': 0.12038271926362945, 'Validation': 0.4047171473503113, 'Test': 0.3991187512874603}\n",
      "\n",
      "=====Epoch 45\n",
      "\n",
      "Training...\n"
     ]
    },
    {
     "name": "stderr",
     "output_type": "stream",
     "text": [
      "\n",
      "100%|██████████| 764/764 [01:38<00:00,  7.73it/s]"
     ]
    },
    {
     "name": "stdout",
     "output_type": "stream",
     "text": [
      "\n",
      "\n",
      "Evaluating...\n"
     ]
    },
    {
     "name": "stderr",
     "output_type": "stream",
     "text": [
      "\n",
      "100%|██████████| 219/219 [00:14<00:00, 15.01it/s]"
     ]
    },
    {
     "name": "stdout",
     "output_type": "stream",
     "text": [
      "\n",
      "\n",
      "Testing...\n"
     ]
    },
    {
     "name": "stderr",
     "output_type": "stream",
     "text": [
      "\n",
      "100%|██████████| 110/110 [00:07<00:00, 14.91it/s]"
     ]
    },
    {
     "name": "stdout",
     "output_type": "stream",
     "text": [
      "\n",
      "{'Train': 0.1231312855532032, 'Validation': 0.41824987530708313, 'Test': 0.4124266505241394}\n",
      "\n",
      "=====Epoch 46\n",
      "\n",
      "Training...\n"
     ]
    },
    {
     "name": "stderr",
     "output_type": "stream",
     "text": [
      "\n",
      "100%|██████████| 764/764 [01:38<00:00,  7.75it/s]"
     ]
    },
    {
     "name": "stdout",
     "output_type": "stream",
     "text": [
      "\n",
      "\n",
      "Evaluating...\n"
     ]
    },
    {
     "name": "stderr",
     "output_type": "stream",
     "text": [
      "\n",
      "100%|██████████| 219/219 [00:14<00:00, 14.97it/s]"
     ]
    },
    {
     "name": "stdout",
     "output_type": "stream",
     "text": [
      "\n",
      "\n",
      "Testing...\n"
     ]
    },
    {
     "name": "stderr",
     "output_type": "stream",
     "text": [
      "\n",
      "100%|██████████| 110/110 [00:07<00:00, 14.84it/s]\n"
     ]
    },
    {
     "name": "stdout",
     "output_type": "stream",
     "text": [
      "\n",
      "{'Train': 0.12559817878636703, 'Validation': 0.3798009753227234, 'Test': 0.376197874546051}\n",
      "Saving checkpoint...\n",
      "\n",
      "=====Epoch 47\n",
      "\n",
      "Training...\n"
     ]
    },
    {
     "name": "stderr",
     "output_type": "stream",
     "text": [
      "100%|██████████| 764/764 [01:38<00:00,  7.73it/s]"
     ]
    },
    {
     "name": "stdout",
     "output_type": "stream",
     "text": [
      "\n",
      "\n",
      "Evaluating...\n"
     ]
    },
    {
     "name": "stderr",
     "output_type": "stream",
     "text": [
      "\n",
      "100%|██████████| 219/219 [00:14<00:00, 14.99it/s]"
     ]
    },
    {
     "name": "stdout",
     "output_type": "stream",
     "text": [
      "\n",
      "\n",
      "Testing...\n"
     ]
    },
    {
     "name": "stderr",
     "output_type": "stream",
     "text": [
      "\n",
      "100%|██████████| 110/110 [00:07<00:00, 14.76it/s]"
     ]
    },
    {
     "name": "stdout",
     "output_type": "stream",
     "text": [
      "\n",
      "{'Train': 0.09198257153492947, 'Validation': 0.38400736451148987, 'Test': 0.3806455135345459}\n",
      "\n",
      "=====Epoch 48\n",
      "\n",
      "Training...\n"
     ]
    },
    {
     "name": "stderr",
     "output_type": "stream",
     "text": [
      "\n",
      "100%|██████████| 764/764 [01:38<00:00,  7.76it/s]"
     ]
    },
    {
     "name": "stdout",
     "output_type": "stream",
     "text": [
      "\n",
      "\n",
      "Evaluating...\n"
     ]
    },
    {
     "name": "stderr",
     "output_type": "stream",
     "text": [
      "\n",
      "100%|██████████| 219/219 [00:14<00:00, 14.92it/s]"
     ]
    },
    {
     "name": "stdout",
     "output_type": "stream",
     "text": [
      "\n",
      "\n",
      "Testing...\n"
     ]
    },
    {
     "name": "stderr",
     "output_type": "stream",
     "text": [
      "\n",
      "100%|██████████| 110/110 [00:07<00:00, 14.84it/s]"
     ]
    },
    {
     "name": "stdout",
     "output_type": "stream",
     "text": [
      "\n",
      "{'Train': 0.07765292905329566, 'Validation': 0.38260844349861145, 'Test': 0.37996047735214233}\n",
      "\n",
      "=====Epoch 49\n",
      "\n",
      "Training...\n"
     ]
    },
    {
     "name": "stderr",
     "output_type": "stream",
     "text": [
      "\n",
      "100%|██████████| 764/764 [01:38<00:00,  7.76it/s]"
     ]
    },
    {
     "name": "stdout",
     "output_type": "stream",
     "text": [
      "\n",
      "\n",
      "Evaluating...\n"
     ]
    },
    {
     "name": "stderr",
     "output_type": "stream",
     "text": [
      "\n",
      "100%|██████████| 219/219 [00:14<00:00, 15.02it/s]"
     ]
    },
    {
     "name": "stdout",
     "output_type": "stream",
     "text": [
      "\n",
      "\n",
      "Testing...\n"
     ]
    },
    {
     "name": "stderr",
     "output_type": "stream",
     "text": [
      "\n",
      "100%|██████████| 110/110 [00:07<00:00, 14.90it/s]"
     ]
    },
    {
     "name": "stdout",
     "output_type": "stream",
     "text": [
      "\n",
      "{'Train': 0.0733917821637545, 'Validation': 0.3808457553386688, 'Test': 0.3790736496448517}\n",
      "\n",
      "=====Epoch 50\n",
      "\n",
      "Training...\n"
     ]
    },
    {
     "name": "stderr",
     "output_type": "stream",
     "text": [
      "\n",
      "100%|██████████| 764/764 [01:38<00:00,  7.76it/s]"
     ]
    },
    {
     "name": "stdout",
     "output_type": "stream",
     "text": [
      "\n",
      "\n",
      "Evaluating...\n"
     ]
    },
    {
     "name": "stderr",
     "output_type": "stream",
     "text": [
      "\n",
      "100%|██████████| 219/219 [00:14<00:00, 15.08it/s]"
     ]
    },
    {
     "name": "stdout",
     "output_type": "stream",
     "text": [
      "\n",
      "\n",
      "Testing...\n"
     ]
    },
    {
     "name": "stderr",
     "output_type": "stream",
     "text": [
      "\n",
      "100%|██████████| 110/110 [00:07<00:00, 14.98it/s]"
     ]
    },
    {
     "name": "stdout",
     "output_type": "stream",
     "text": [
      "\n",
      "{'Train': 0.07894188331937446, 'Validation': 0.3830607235431671, 'Test': 0.3794604241847992}\n",
      "\n",
      "=====Epoch 51\n",
      "\n",
      "Training...\n"
     ]
    },
    {
     "name": "stderr",
     "output_type": "stream",
     "text": [
      "\n",
      "100%|██████████| 764/764 [01:38<00:00,  7.75it/s]"
     ]
    },
    {
     "name": "stdout",
     "output_type": "stream",
     "text": [
      "\n",
      "\n",
      "Evaluating...\n"
     ]
    },
    {
     "name": "stderr",
     "output_type": "stream",
     "text": [
      "\n",
      "100%|██████████| 219/219 [00:14<00:00, 15.06it/s]"
     ]
    },
    {
     "name": "stdout",
     "output_type": "stream",
     "text": [
      "\n",
      "\n",
      "Testing...\n"
     ]
    },
    {
     "name": "stderr",
     "output_type": "stream",
     "text": [
      "\n",
      "100%|██████████| 110/110 [00:07<00:00, 15.03it/s]"
     ]
    },
    {
     "name": "stdout",
     "output_type": "stream",
     "text": [
      "\n",
      "{'Train': 0.08413295728198365, 'Validation': 0.3870293200016022, 'Test': 0.382744163274765}\n",
      "\n",
      "=====Epoch 52\n",
      "\n",
      "Training...\n"
     ]
    },
    {
     "name": "stderr",
     "output_type": "stream",
     "text": [
      "\n",
      "100%|██████████| 764/764 [01:38<00:00,  7.77it/s]"
     ]
    },
    {
     "name": "stdout",
     "output_type": "stream",
     "text": [
      "\n",
      "\n",
      "Evaluating...\n"
     ]
    },
    {
     "name": "stderr",
     "output_type": "stream",
     "text": [
      "\n",
      "100%|██████████| 219/219 [00:14<00:00, 15.08it/s]"
     ]
    },
    {
     "name": "stdout",
     "output_type": "stream",
     "text": [
      "\n",
      "\n",
      "Testing...\n"
     ]
    },
    {
     "name": "stderr",
     "output_type": "stream",
     "text": [
      "\n",
      "100%|██████████| 110/110 [00:07<00:00, 14.88it/s]"
     ]
    },
    {
     "name": "stdout",
     "output_type": "stream",
     "text": [
      "\n",
      "{'Train': 0.08609234038447834, 'Validation': 0.39317622780799866, 'Test': 0.38942304253578186}\n",
      "\n",
      "=====Epoch 53\n",
      "\n",
      "Training...\n"
     ]
    },
    {
     "name": "stderr",
     "output_type": "stream",
     "text": [
      "\n",
      "100%|██████████| 764/764 [01:38<00:00,  7.78it/s]"
     ]
    },
    {
     "name": "stdout",
     "output_type": "stream",
     "text": [
      "\n",
      "\n",
      "Evaluating...\n"
     ]
    },
    {
     "name": "stderr",
     "output_type": "stream",
     "text": [
      "\n",
      "100%|██████████| 219/219 [00:14<00:00, 14.97it/s]"
     ]
    },
    {
     "name": "stdout",
     "output_type": "stream",
     "text": [
      "\n",
      "\n",
      "Testing...\n"
     ]
    },
    {
     "name": "stderr",
     "output_type": "stream",
     "text": [
      "\n",
      "100%|██████████| 110/110 [00:07<00:00, 14.93it/s]"
     ]
    },
    {
     "name": "stdout",
     "output_type": "stream",
     "text": [
      "\n",
      "{'Train': 0.08519147736805428, 'Validation': 0.3903271555900574, 'Test': 0.3857153654098511}\n",
      "\n",
      "=====Epoch 54\n",
      "\n",
      "Training...\n"
     ]
    },
    {
     "name": "stderr",
     "output_type": "stream",
     "text": [
      "\n",
      "100%|██████████| 764/764 [01:37<00:00,  7.87it/s]"
     ]
    },
    {
     "name": "stdout",
     "output_type": "stream",
     "text": [
      "\n",
      "\n",
      "Evaluating...\n"
     ]
    },
    {
     "name": "stderr",
     "output_type": "stream",
     "text": [
      "\n",
      "100%|██████████| 219/219 [00:14<00:00, 15.07it/s]"
     ]
    },
    {
     "name": "stdout",
     "output_type": "stream",
     "text": [
      "\n",
      "\n",
      "Testing...\n"
     ]
    },
    {
     "name": "stderr",
     "output_type": "stream",
     "text": [
      "\n",
      "100%|██████████| 110/110 [00:07<00:00, 15.15it/s]"
     ]
    },
    {
     "name": "stdout",
     "output_type": "stream",
     "text": [
      "\n",
      "{'Train': 0.08059879058864729, 'Validation': 0.38835006952285767, 'Test': 0.38307803869247437}\n",
      "\n",
      "=====Epoch 55\n",
      "\n",
      "Training...\n"
     ]
    },
    {
     "name": "stderr",
     "output_type": "stream",
     "text": [
      "\n",
      "100%|██████████| 764/764 [01:37<00:00,  7.86it/s]"
     ]
    },
    {
     "name": "stdout",
     "output_type": "stream",
     "text": [
      "\n",
      "\n",
      "Evaluating...\n"
     ]
    },
    {
     "name": "stderr",
     "output_type": "stream",
     "text": [
      "\n",
      "100%|██████████| 219/219 [00:14<00:00, 15.16it/s]"
     ]
    },
    {
     "name": "stdout",
     "output_type": "stream",
     "text": [
      "\n",
      "\n",
      "Testing...\n"
     ]
    },
    {
     "name": "stderr",
     "output_type": "stream",
     "text": [
      "\n",
      "100%|██████████| 110/110 [00:07<00:00, 14.90it/s]"
     ]
    },
    {
     "name": "stdout",
     "output_type": "stream",
     "text": [
      "\n",
      "{'Train': 0.08113387666389112, 'Validation': 0.3864974081516266, 'Test': 0.38250356912612915}\n",
      "\n",
      "=====Epoch 56\n",
      "\n",
      "Training...\n"
     ]
    },
    {
     "name": "stderr",
     "output_type": "stream",
     "text": [
      "\n",
      "100%|██████████| 764/764 [01:37<00:00,  7.86it/s]"
     ]
    },
    {
     "name": "stdout",
     "output_type": "stream",
     "text": [
      "\n",
      "\n",
      "Evaluating...\n"
     ]
    },
    {
     "name": "stderr",
     "output_type": "stream",
     "text": [
      "\n",
      "100%|██████████| 219/219 [00:14<00:00, 15.13it/s]"
     ]
    },
    {
     "name": "stdout",
     "output_type": "stream",
     "text": [
      "\n",
      "\n",
      "Testing...\n"
     ]
    },
    {
     "name": "stderr",
     "output_type": "stream",
     "text": [
      "\n",
      "100%|██████████| 110/110 [00:07<00:00, 14.86it/s]"
     ]
    },
    {
     "name": "stdout",
     "output_type": "stream",
     "text": [
      "\n",
      "{'Train': 0.08069354513201726, 'Validation': 0.3894403874874115, 'Test': 0.3872496783733368}\n",
      "\n",
      "=====Epoch 57\n",
      "\n",
      "Training...\n"
     ]
    },
    {
     "name": "stderr",
     "output_type": "stream",
     "text": [
      "\n",
      "100%|██████████| 764/764 [01:36<00:00,  7.88it/s]"
     ]
    },
    {
     "name": "stdout",
     "output_type": "stream",
     "text": [
      "\n",
      "\n",
      "Evaluating...\n"
     ]
    },
    {
     "name": "stderr",
     "output_type": "stream",
     "text": [
      "\n",
      "100%|██████████| 219/219 [00:14<00:00, 15.23it/s]"
     ]
    },
    {
     "name": "stdout",
     "output_type": "stream",
     "text": [
      "\n",
      "\n",
      "Testing...\n"
     ]
    },
    {
     "name": "stderr",
     "output_type": "stream",
     "text": [
      "\n",
      "100%|██████████| 110/110 [00:07<00:00, 15.22it/s]"
     ]
    },
    {
     "name": "stdout",
     "output_type": "stream",
     "text": [
      "\n",
      "{'Train': 0.08631474299951218, 'Validation': 0.4031403064727783, 'Test': 0.400580495595932}\n",
      "\n",
      "=====Epoch 58\n",
      "\n",
      "Training...\n"
     ]
    },
    {
     "name": "stderr",
     "output_type": "stream",
     "text": [
      "\n",
      "100%|██████████| 764/764 [01:36<00:00,  7.88it/s]"
     ]
    },
    {
     "name": "stdout",
     "output_type": "stream",
     "text": [
      "\n",
      "\n",
      "Evaluating...\n"
     ]
    },
    {
     "name": "stderr",
     "output_type": "stream",
     "text": [
      "\n",
      "100%|██████████| 219/219 [00:14<00:00, 15.19it/s]"
     ]
    },
    {
     "name": "stdout",
     "output_type": "stream",
     "text": [
      "\n",
      "\n",
      "Testing...\n"
     ]
    },
    {
     "name": "stderr",
     "output_type": "stream",
     "text": [
      "\n",
      "100%|██████████| 110/110 [00:07<00:00, 14.76it/s]"
     ]
    },
    {
     "name": "stdout",
     "output_type": "stream",
     "text": [
      "\n",
      "{'Train': 0.0904990641683028, 'Validation': 0.39865782856941223, 'Test': 0.3969840705394745}\n",
      "\n",
      "=====Epoch 59\n",
      "\n",
      "Training...\n"
     ]
    },
    {
     "name": "stderr",
     "output_type": "stream",
     "text": [
      "\n",
      "100%|██████████| 764/764 [01:36<00:00,  7.88it/s]"
     ]
    },
    {
     "name": "stdout",
     "output_type": "stream",
     "text": [
      "\n",
      "\n",
      "Evaluating...\n"
     ]
    },
    {
     "name": "stderr",
     "output_type": "stream",
     "text": [
      "\n",
      "100%|██████████| 219/219 [00:14<00:00, 15.31it/s]"
     ]
    },
    {
     "name": "stdout",
     "output_type": "stream",
     "text": [
      "\n",
      "\n",
      "Testing...\n"
     ]
    },
    {
     "name": "stderr",
     "output_type": "stream",
     "text": [
      "\n",
      "100%|██████████| 110/110 [00:07<00:00, 15.28it/s]"
     ]
    },
    {
     "name": "stdout",
     "output_type": "stream",
     "text": [
      "\n",
      "{'Train': 0.08593921288750403, 'Validation': 0.3946831226348877, 'Test': 0.39255908131599426}\n",
      "\n",
      "=====Epoch 60\n",
      "\n",
      "Training...\n"
     ]
    },
    {
     "name": "stderr",
     "output_type": "stream",
     "text": [
      "\n",
      "100%|██████████| 764/764 [01:37<00:00,  7.88it/s]"
     ]
    },
    {
     "name": "stdout",
     "output_type": "stream",
     "text": [
      "\n",
      "\n",
      "Evaluating...\n"
     ]
    },
    {
     "name": "stderr",
     "output_type": "stream",
     "text": [
      "\n",
      "100%|██████████| 219/219 [00:14<00:00, 15.22it/s]"
     ]
    },
    {
     "name": "stdout",
     "output_type": "stream",
     "text": [
      "\n",
      "\n",
      "Testing...\n"
     ]
    },
    {
     "name": "stderr",
     "output_type": "stream",
     "text": [
      "\n",
      "100%|██████████| 110/110 [00:07<00:00, 15.14it/s]"
     ]
    },
    {
     "name": "stdout",
     "output_type": "stream",
     "text": [
      "\n",
      "{'Train': 0.08580457110991653, 'Validation': 0.3936767876148224, 'Test': 0.3928557336330414}\n",
      "\n",
      "=====Epoch 61\n",
      "\n",
      "Training...\n"
     ]
    },
    {
     "name": "stderr",
     "output_type": "stream",
     "text": [
      "\n",
      "100%|██████████| 764/764 [01:36<00:00,  7.88it/s]"
     ]
    },
    {
     "name": "stdout",
     "output_type": "stream",
     "text": [
      "\n",
      "\n",
      "Evaluating...\n"
     ]
    },
    {
     "name": "stderr",
     "output_type": "stream",
     "text": [
      "\n",
      "100%|██████████| 219/219 [00:14<00:00, 15.17it/s]"
     ]
    },
    {
     "name": "stdout",
     "output_type": "stream",
     "text": [
      "\n",
      "\n",
      "Testing...\n"
     ]
    },
    {
     "name": "stderr",
     "output_type": "stream",
     "text": [
      "\n",
      "100%|██████████| 110/110 [00:07<00:00, 15.14it/s]\n"
     ]
    },
    {
     "name": "stdout",
     "output_type": "stream",
     "text": [
      "\n",
      "{'Train': 0.08519809055312766, 'Validation': 0.37842077016830444, 'Test': 0.3755556046962738}\n",
      "Saving checkpoint...\n",
      "\n",
      "=====Epoch 62\n",
      "\n",
      "Training...\n"
     ]
    },
    {
     "name": "stderr",
     "output_type": "stream",
     "text": [
      "100%|██████████| 764/764 [01:37<00:00,  7.84it/s]"
     ]
    },
    {
     "name": "stdout",
     "output_type": "stream",
     "text": [
      "\n",
      "\n",
      "Evaluating...\n"
     ]
    },
    {
     "name": "stderr",
     "output_type": "stream",
     "text": [
      "\n",
      "100%|██████████| 219/219 [00:14<00:00, 15.24it/s]"
     ]
    },
    {
     "name": "stdout",
     "output_type": "stream",
     "text": [
      "\n",
      "\n",
      "Testing...\n"
     ]
    },
    {
     "name": "stderr",
     "output_type": "stream",
     "text": [
      "\n",
      "100%|██████████| 110/110 [00:07<00:00, 15.11it/s]"
     ]
    },
    {
     "name": "stdout",
     "output_type": "stream",
     "text": [
      "\n",
      "{'Train': 0.06538694054229643, 'Validation': 0.3811379373073578, 'Test': 0.379120796918869}\n",
      "\n",
      "=====Epoch 63\n",
      "\n",
      "Training...\n"
     ]
    },
    {
     "name": "stderr",
     "output_type": "stream",
     "text": [
      "\n",
      "100%|██████████| 764/764 [01:37<00:00,  7.86it/s]"
     ]
    },
    {
     "name": "stdout",
     "output_type": "stream",
     "text": [
      "\n",
      "\n",
      "Evaluating...\n"
     ]
    },
    {
     "name": "stderr",
     "output_type": "stream",
     "text": [
      "\n",
      "100%|██████████| 219/219 [00:14<00:00, 15.11it/s]"
     ]
    },
    {
     "name": "stdout",
     "output_type": "stream",
     "text": [
      "\n",
      "\n",
      "Testing...\n"
     ]
    },
    {
     "name": "stderr",
     "output_type": "stream",
     "text": [
      "\n",
      "100%|██████████| 110/110 [00:07<00:00, 15.22it/s]"
     ]
    },
    {
     "name": "stdout",
     "output_type": "stream",
     "text": [
      "\n",
      "{'Train': 0.052592040485756095, 'Validation': 0.3811468780040741, 'Test': 0.378566712141037}\n",
      "\n",
      "=====Epoch 64\n",
      "\n",
      "Training...\n"
     ]
    },
    {
     "name": "stderr",
     "output_type": "stream",
     "text": [
      "\n",
      "100%|██████████| 764/764 [01:37<00:00,  7.86it/s]"
     ]
    },
    {
     "name": "stdout",
     "output_type": "stream",
     "text": [
      "\n",
      "\n",
      "Evaluating...\n"
     ]
    },
    {
     "name": "stderr",
     "output_type": "stream",
     "text": [
      "\n",
      "100%|██████████| 219/219 [00:14<00:00, 15.25it/s]"
     ]
    },
    {
     "name": "stdout",
     "output_type": "stream",
     "text": [
      "\n",
      "\n",
      "Testing...\n"
     ]
    },
    {
     "name": "stderr",
     "output_type": "stream",
     "text": [
      "\n",
      "100%|██████████| 110/110 [00:07<00:00, 14.95it/s]"
     ]
    },
    {
     "name": "stdout",
     "output_type": "stream",
     "text": [
      "\n",
      "{'Train': 0.04754059616212992, 'Validation': 0.3817090690135956, 'Test': 0.3789384663105011}\n",
      "\n",
      "=====Epoch 65\n",
      "\n",
      "Training...\n"
     ]
    },
    {
     "name": "stderr",
     "output_type": "stream",
     "text": [
      "\n",
      "100%|██████████| 764/764 [01:36<00:00,  7.88it/s]"
     ]
    },
    {
     "name": "stdout",
     "output_type": "stream",
     "text": [
      "\n",
      "\n",
      "Evaluating...\n"
     ]
    },
    {
     "name": "stderr",
     "output_type": "stream",
     "text": [
      "\n",
      "100%|██████████| 219/219 [00:14<00:00, 15.11it/s]"
     ]
    },
    {
     "name": "stdout",
     "output_type": "stream",
     "text": [
      "\n",
      "\n",
      "Testing...\n"
     ]
    },
    {
     "name": "stderr",
     "output_type": "stream",
     "text": [
      "\n",
      "100%|██████████| 110/110 [00:07<00:00, 15.21it/s]"
     ]
    },
    {
     "name": "stdout",
     "output_type": "stream",
     "text": [
      "\n",
      "{'Train': 0.04532189568972791, 'Validation': 0.3804025650024414, 'Test': 0.377427875995636}\n",
      "\n",
      "=====Epoch 66\n",
      "\n",
      "Training...\n"
     ]
    },
    {
     "name": "stderr",
     "output_type": "stream",
     "text": [
      "\n",
      "100%|██████████| 764/764 [01:37<00:00,  7.86it/s]"
     ]
    },
    {
     "name": "stdout",
     "output_type": "stream",
     "text": [
      "\n",
      "\n",
      "Evaluating...\n"
     ]
    },
    {
     "name": "stderr",
     "output_type": "stream",
     "text": [
      "\n",
      "100%|██████████| 219/219 [00:14<00:00, 15.07it/s]"
     ]
    },
    {
     "name": "stdout",
     "output_type": "stream",
     "text": [
      "\n",
      "\n",
      "Testing...\n"
     ]
    },
    {
     "name": "stderr",
     "output_type": "stream",
     "text": [
      "\n",
      "100%|██████████| 110/110 [00:07<00:00, 14.92it/s]"
     ]
    },
    {
     "name": "stdout",
     "output_type": "stream",
     "text": [
      "\n",
      "{'Train': 0.047965132246154764, 'Validation': 0.38095974922180176, 'Test': 0.3775708079338074}\n",
      "\n",
      "=====Epoch 67\n",
      "\n",
      "Training...\n"
     ]
    },
    {
     "name": "stderr",
     "output_type": "stream",
     "text": [
      "\n",
      "100%|██████████| 764/764 [01:37<00:00,  7.86it/s]"
     ]
    },
    {
     "name": "stdout",
     "output_type": "stream",
     "text": [
      "\n",
      "\n",
      "Evaluating...\n"
     ]
    },
    {
     "name": "stderr",
     "output_type": "stream",
     "text": [
      "\n",
      "100%|██████████| 219/219 [00:14<00:00, 15.14it/s]"
     ]
    },
    {
     "name": "stdout",
     "output_type": "stream",
     "text": [
      "\n",
      "\n",
      "Testing...\n"
     ]
    },
    {
     "name": "stderr",
     "output_type": "stream",
     "text": [
      "\n",
      "100%|██████████| 110/110 [00:07<00:00, 15.09it/s]"
     ]
    },
    {
     "name": "stdout",
     "output_type": "stream",
     "text": [
      "\n",
      "{'Train': 0.05279852996253608, 'Validation': 0.38321593403816223, 'Test': 0.379650354385376}\n",
      "\n",
      "=====Epoch 68\n",
      "\n",
      "Training...\n"
     ]
    },
    {
     "name": "stderr",
     "output_type": "stream",
     "text": [
      "\n",
      "100%|██████████| 764/764 [01:37<00:00,  7.85it/s]"
     ]
    },
    {
     "name": "stdout",
     "output_type": "stream",
     "text": [
      "\n",
      "\n",
      "Evaluating...\n"
     ]
    },
    {
     "name": "stderr",
     "output_type": "stream",
     "text": [
      "\n",
      "100%|██████████| 219/219 [00:14<00:00, 15.15it/s]\n"
     ]
    },
    {
     "name": "stdout",
     "output_type": "stream",
     "text": [
      "\n",
      "\n",
      "Testing...\n"
     ]
    },
    {
     "name": "stderr",
     "output_type": "stream",
     "text": [
      "100%|██████████| 110/110 [00:07<00:00, 15.18it/s]"
     ]
    },
    {
     "name": "stdout",
     "output_type": "stream",
     "text": [
      "\n",
      "{'Train': 0.05517184075104629, 'Validation': 0.3832194209098816, 'Test': 0.3794567584991455}\n",
      "\n",
      "=====Epoch 69\n",
      "\n",
      "Training...\n"
     ]
    },
    {
     "name": "stderr",
     "output_type": "stream",
     "text": [
      "\n",
      "100%|██████████| 764/764 [01:37<00:00,  7.87it/s]"
     ]
    },
    {
     "name": "stdout",
     "output_type": "stream",
     "text": [
      "\n",
      "\n",
      "Evaluating...\n"
     ]
    },
    {
     "name": "stderr",
     "output_type": "stream",
     "text": [
      "\n",
      "100%|██████████| 219/219 [00:14<00:00, 15.10it/s]"
     ]
    },
    {
     "name": "stdout",
     "output_type": "stream",
     "text": [
      "\n",
      "\n",
      "Testing...\n"
     ]
    },
    {
     "name": "stderr",
     "output_type": "stream",
     "text": [
      "\n",
      "100%|██████████| 110/110 [00:07<00:00, 15.17it/s]"
     ]
    },
    {
     "name": "stdout",
     "output_type": "stream",
     "text": [
      "\n",
      "{'Train': 0.05300512207740264, 'Validation': 0.3836579918861389, 'Test': 0.3804864287376404}\n",
      "\n",
      "=====Epoch 70\n",
      "\n",
      "Training...\n"
     ]
    },
    {
     "name": "stderr",
     "output_type": "stream",
     "text": [
      "\n",
      "100%|██████████| 764/764 [01:37<00:00,  7.87it/s]"
     ]
    },
    {
     "name": "stdout",
     "output_type": "stream",
     "text": [
      "\n",
      "\n",
      "Evaluating...\n"
     ]
    },
    {
     "name": "stderr",
     "output_type": "stream",
     "text": [
      "\n",
      "100%|██████████| 219/219 [00:14<00:00, 15.17it/s]"
     ]
    },
    {
     "name": "stdout",
     "output_type": "stream",
     "text": [
      "\n",
      "\n",
      "Testing...\n"
     ]
    },
    {
     "name": "stderr",
     "output_type": "stream",
     "text": [
      "\n",
      "100%|██████████| 110/110 [00:07<00:00, 15.12it/s]"
     ]
    },
    {
     "name": "stdout",
     "output_type": "stream",
     "text": [
      "\n",
      "{'Train': 0.05122303198876727, 'Validation': 0.38259243965148926, 'Test': 0.37928637862205505}\n",
      "\n",
      "=====Epoch 71\n",
      "\n",
      "Training...\n"
     ]
    },
    {
     "name": "stderr",
     "output_type": "stream",
     "text": [
      "\n",
      "100%|██████████| 764/764 [01:37<00:00,  7.87it/s]"
     ]
    },
    {
     "name": "stdout",
     "output_type": "stream",
     "text": [
      "\n",
      "\n",
      "Evaluating...\n"
     ]
    },
    {
     "name": "stderr",
     "output_type": "stream",
     "text": [
      "\n",
      "100%|██████████| 219/219 [00:14<00:00, 15.15it/s]"
     ]
    },
    {
     "name": "stdout",
     "output_type": "stream",
     "text": [
      "\n",
      "\n",
      "Testing...\n"
     ]
    },
    {
     "name": "stderr",
     "output_type": "stream",
     "text": [
      "\n",
      "100%|██████████| 110/110 [00:07<00:00, 14.89it/s]"
     ]
    },
    {
     "name": "stdout",
     "output_type": "stream",
     "text": [
      "\n",
      "{'Train': 0.05059685313547547, 'Validation': 0.38170096278190613, 'Test': 0.37887895107269287}\n",
      "\n",
      "=====Epoch 72\n",
      "\n",
      "Training...\n"
     ]
    },
    {
     "name": "stderr",
     "output_type": "stream",
     "text": [
      "\n",
      "100%|██████████| 764/764 [01:36<00:00,  7.89it/s]"
     ]
    },
    {
     "name": "stdout",
     "output_type": "stream",
     "text": [
      "\n",
      "\n",
      "Evaluating...\n"
     ]
    },
    {
     "name": "stderr",
     "output_type": "stream",
     "text": [
      "\n",
      "100%|██████████| 219/219 [00:14<00:00, 15.28it/s]"
     ]
    },
    {
     "name": "stdout",
     "output_type": "stream",
     "text": [
      "\n",
      "\n",
      "Testing...\n"
     ]
    },
    {
     "name": "stderr",
     "output_type": "stream",
     "text": [
      "\n",
      "100%|██████████| 110/110 [00:07<00:00, 15.17it/s]"
     ]
    },
    {
     "name": "stdout",
     "output_type": "stream",
     "text": [
      "\n",
      "{'Train': 0.0494946650453692, 'Validation': 0.3840830624103546, 'Test': 0.3819747567176819}\n",
      "\n",
      "=====Epoch 73\n",
      "\n",
      "Training...\n"
     ]
    },
    {
     "name": "stderr",
     "output_type": "stream",
     "text": [
      "\n",
      "100%|██████████| 764/764 [01:37<00:00,  7.87it/s]"
     ]
    },
    {
     "name": "stdout",
     "output_type": "stream",
     "text": [
      "\n",
      "\n",
      "Evaluating...\n"
     ]
    },
    {
     "name": "stderr",
     "output_type": "stream",
     "text": [
      "\n",
      "100%|██████████| 219/219 [00:14<00:00, 15.27it/s]"
     ]
    },
    {
     "name": "stdout",
     "output_type": "stream",
     "text": [
      "\n",
      "\n",
      "Testing...\n"
     ]
    },
    {
     "name": "stderr",
     "output_type": "stream",
     "text": [
      "\n",
      "100%|██████████| 110/110 [00:07<00:00, 14.86it/s]"
     ]
    },
    {
     "name": "stdout",
     "output_type": "stream",
     "text": [
      "\n",
      "{'Train': 0.04835597617327387, 'Validation': 0.386692613363266, 'Test': 0.38433289527893066}\n",
      "\n",
      "=====Epoch 74\n",
      "\n",
      "Training...\n"
     ]
    },
    {
     "name": "stderr",
     "output_type": "stream",
     "text": [
      "\n",
      "100%|██████████| 764/764 [01:36<00:00,  7.89it/s]"
     ]
    },
    {
     "name": "stdout",
     "output_type": "stream",
     "text": [
      "\n",
      "\n",
      "Evaluating...\n"
     ]
    },
    {
     "name": "stderr",
     "output_type": "stream",
     "text": [
      "\n",
      "100%|██████████| 219/219 [00:14<00:00, 15.04it/s]"
     ]
    },
    {
     "name": "stdout",
     "output_type": "stream",
     "text": [
      "\n",
      "\n",
      "Testing...\n"
     ]
    },
    {
     "name": "stderr",
     "output_type": "stream",
     "text": [
      "\n",
      "100%|██████████| 110/110 [00:07<00:00, 15.08it/s]"
     ]
    },
    {
     "name": "stdout",
     "output_type": "stream",
     "text": [
      "\n",
      "{'Train': 0.05183393071790796, 'Validation': 0.38429510593414307, 'Test': 0.3835543394088745}\n",
      "\n",
      "=====Epoch 75\n",
      "\n",
      "Training...\n"
     ]
    },
    {
     "name": "stderr",
     "output_type": "stream",
     "text": [
      "\n",
      "100%|██████████| 764/764 [01:37<00:00,  7.86it/s]"
     ]
    },
    {
     "name": "stdout",
     "output_type": "stream",
     "text": [
      "\n",
      "\n",
      "Evaluating...\n"
     ]
    },
    {
     "name": "stderr",
     "output_type": "stream",
     "text": [
      "\n",
      "100%|██████████| 219/219 [00:14<00:00, 14.85it/s]"
     ]
    },
    {
     "name": "stdout",
     "output_type": "stream",
     "text": [
      "\n",
      "\n",
      "Testing...\n"
     ]
    },
    {
     "name": "stderr",
     "output_type": "stream",
     "text": [
      "\n",
      "100%|██████████| 110/110 [00:07<00:00, 15.22it/s]"
     ]
    },
    {
     "name": "stdout",
     "output_type": "stream",
     "text": [
      "\n",
      "{'Train': 0.056830360251844556, 'Validation': 0.38096705079078674, 'Test': 0.3806253969669342}\n",
      "\n",
      "=====Epoch 76\n",
      "\n",
      "Training...\n"
     ]
    },
    {
     "name": "stderr",
     "output_type": "stream",
     "text": [
      "\n",
      "100%|██████████| 764/764 [01:37<00:00,  7.86it/s]"
     ]
    },
    {
     "name": "stdout",
     "output_type": "stream",
     "text": [
      "\n",
      "\n",
      "Evaluating...\n"
     ]
    },
    {
     "name": "stderr",
     "output_type": "stream",
     "text": [
      "\n",
      "100%|██████████| 219/219 [00:14<00:00, 15.10it/s]\n"
     ]
    },
    {
     "name": "stdout",
     "output_type": "stream",
     "text": [
      "\n",
      "\n",
      "Testing...\n"
     ]
    },
    {
     "name": "stderr",
     "output_type": "stream",
     "text": [
      "100%|██████████| 110/110 [00:07<00:00, 15.16it/s]"
     ]
    },
    {
     "name": "stdout",
     "output_type": "stream",
     "text": [
      "\n",
      "{'Train': 0.05785757792791771, 'Validation': 0.3806464374065399, 'Test': 0.3793843388557434}\n",
      "\n",
      "=====Epoch 77\n",
      "\n",
      "Training...\n"
     ]
    },
    {
     "name": "stderr",
     "output_type": "stream",
     "text": [
      "\n",
      "100%|██████████| 764/764 [01:37<00:00,  7.87it/s]"
     ]
    },
    {
     "name": "stdout",
     "output_type": "stream",
     "text": [
      "\n",
      "\n",
      "Evaluating...\n"
     ]
    },
    {
     "name": "stderr",
     "output_type": "stream",
     "text": [
      "\n",
      "100%|██████████| 219/219 [00:14<00:00, 15.08it/s]"
     ]
    },
    {
     "name": "stdout",
     "output_type": "stream",
     "text": [
      "\n",
      "\n",
      "Testing...\n"
     ]
    },
    {
     "name": "stderr",
     "output_type": "stream",
     "text": [
      "\n",
      "100%|██████████| 110/110 [00:07<00:00, 15.24it/s]"
     ]
    },
    {
     "name": "stdout",
     "output_type": "stream",
     "text": [
      "\n",
      "{'Train': 0.04662402961841974, 'Validation': 0.37994134426116943, 'Test': 0.37825995683670044}\n",
      "\n",
      "=====Epoch 78\n",
      "\n",
      "Training...\n"
     ]
    },
    {
     "name": "stderr",
     "output_type": "stream",
     "text": [
      "\n",
      "100%|██████████| 764/764 [01:37<00:00,  7.87it/s]"
     ]
    },
    {
     "name": "stdout",
     "output_type": "stream",
     "text": [
      "\n",
      "\n",
      "Evaluating...\n"
     ]
    },
    {
     "name": "stderr",
     "output_type": "stream",
     "text": [
      "\n",
      "100%|██████████| 219/219 [00:14<00:00, 14.98it/s]"
     ]
    },
    {
     "name": "stdout",
     "output_type": "stream",
     "text": [
      "\n",
      "\n",
      "Testing...\n"
     ]
    },
    {
     "name": "stderr",
     "output_type": "stream",
     "text": [
      "\n",
      "100%|██████████| 110/110 [00:07<00:00, 15.10it/s]"
     ]
    },
    {
     "name": "stdout",
     "output_type": "stream",
     "text": [
      "\n",
      "{'Train': 0.03913231899337697, 'Validation': 0.3801825940608978, 'Test': 0.37828966975212097}\n",
      "\n",
      "=====Epoch 79\n",
      "\n",
      "Training...\n"
     ]
    },
    {
     "name": "stderr",
     "output_type": "stream",
     "text": [
      "\n",
      "100%|██████████| 764/764 [01:37<00:00,  7.86it/s]"
     ]
    },
    {
     "name": "stdout",
     "output_type": "stream",
     "text": [
      "\n",
      "\n",
      "Evaluating...\n"
     ]
    },
    {
     "name": "stderr",
     "output_type": "stream",
     "text": [
      "\n",
      "100%|██████████| 219/219 [00:14<00:00, 15.26it/s]"
     ]
    },
    {
     "name": "stdout",
     "output_type": "stream",
     "text": [
      "\n",
      "\n",
      "Testing...\n"
     ]
    },
    {
     "name": "stderr",
     "output_type": "stream",
     "text": [
      "\n",
      "100%|██████████| 110/110 [00:07<00:00, 15.15it/s]"
     ]
    },
    {
     "name": "stdout",
     "output_type": "stream",
     "text": [
      "\n",
      "{'Train': 0.03487878379592409, 'Validation': 0.3799779713153839, 'Test': 0.37818390130996704}\n",
      "\n",
      "=====Epoch 80\n",
      "\n",
      "Training...\n"
     ]
    },
    {
     "name": "stderr",
     "output_type": "stream",
     "text": [
      "\n",
      "100%|██████████| 764/764 [01:37<00:00,  7.86it/s]"
     ]
    },
    {
     "name": "stdout",
     "output_type": "stream",
     "text": [
      "\n",
      "\n",
      "Evaluating...\n"
     ]
    },
    {
     "name": "stderr",
     "output_type": "stream",
     "text": [
      "\n",
      "100%|██████████| 219/219 [00:14<00:00, 15.20it/s]"
     ]
    },
    {
     "name": "stdout",
     "output_type": "stream",
     "text": [
      "\n",
      "\n",
      "Testing...\n"
     ]
    },
    {
     "name": "stderr",
     "output_type": "stream",
     "text": [
      "\n",
      "100%|██████████| 110/110 [00:07<00:00, 14.86it/s]"
     ]
    },
    {
     "name": "stdout",
     "output_type": "stream",
     "text": [
      "\n",
      "{'Train': 0.03171477442197697, 'Validation': 0.3804886043071747, 'Test': 0.37855228781700134}\n",
      "Best validation MAE so far: 0.37842077016830444\n",
      "Test MAE when got best validation result: 0.3755556046962738\n"
     ]
    },
    {
     "name": "stderr",
     "output_type": "stream",
     "text": [
      "\n"
     ]
    }
   ],
   "source": [
    "# Обучение модели\n",
    "\n",
    "run3d.run(device, X_train, X_val, X_test, model, loss_func, evaluation,\n",
    "          epochs=80, batch_size=32, vt_batch_size=32, lr=0.0005, lr_decay_factor=0.5, lr_decay_step_size=15,\n",
    "          save_dir=f\"models/{name_of_model}\", log_dir=f\"logs/{name_of_model}\")"
   ]
  },
  {
   "cell_type": "code",
   "execution_count": 25,
   "id": "0fe1c7a5-83ef-4493-ac65-b278d7effd37",
   "metadata": {},
   "outputs": [
    {
     "data": {
      "text/plain": [
       "<All keys matched successfully>"
      ]
     },
     "execution_count": 25,
     "metadata": {},
     "output_type": "execute_result"
    }
   ],
   "source": [
    "# тетстовый код, чтобы можно было подгрузить модель после ее сохранения\n",
    "path = 'models/valid_checkpoint.pt'\n",
    "model1 = SphereNet(energy_and_force=True, cutoff=5.0, num_layers=4,\n",
    "                  hidden_channels=128, out_channels=1, int_emb_size=64,\n",
    "                  basis_emb_size_dist=8, basis_emb_size_angle=8, basis_emb_size_torsion=8, out_emb_channels=256,\n",
    "                  num_spherical=3, num_radial=6, envelope_exponent=5,\n",
    "                  num_before_skip=1, num_after_skip=2, num_output_layers=3)\n",
    "\n",
    "device = torch.device('cuda' if torch.cuda.is_available() else 'cpu')\n",
    "model1.to(device)\n",
    "checkpoint = torch.load(path, map_location=device)\n",
    "model1.load_state_dict(checkpoint['model_state_dict'])"
   ]
  },
  {
   "cell_type": "code",
   "execution_count": 12,
   "id": "304911df-0165-445b-9bfc-4a4fd18c7316",
   "metadata": {},
   "outputs": [
    {
     "data": {
      "text/plain": [
       "Data(y=[1], pos=[33, 3], z=[33])"
      ]
     },
     "execution_count": 12,
     "metadata": {},
     "output_type": "execute_result"
    }
   ],
   "source": [
    "X_train[0]"
   ]
  },
  {
   "cell_type": "code",
   "execution_count": 26,
   "id": "3edb6434-646a-4f9c-b8ba-3e94f0870019",
   "metadata": {},
   "outputs": [
    {
     "name": "stderr",
     "output_type": "stream",
     "text": [
      "100%|██████████| 1/1 [00:00<00:00, 20.98it/s]\n"
     ]
    },
    {
     "data": {
      "text/plain": [
       "23.90863037109375"
      ]
     },
     "execution_count": 26,
     "metadata": {},
     "output_type": "execute_result"
    }
   ],
   "source": [
    "# тестовый код, как можно делать подсчет метрики с помощью библиотеки\n",
    "valid_loader = DataLoader(X_test, 32, shuffle=False)\n",
    "run3d.val(model, valid_loader, False, 100, evaluation, device)"
   ]
  },
  {
   "cell_type": "code",
   "execution_count": null,
   "id": "f77eda87-f7f9-4c5b-a0d1-128100132b83",
   "metadata": {},
   "outputs": [],
   "source": [
    "dataset.mouse_intraperitoneal_LD50.describe()"
   ]
  },
  {
   "cell_type": "markdown",
   "id": "eeaf94ab-6aa3-40d4-8e30-ff7742f70e51",
   "metadata": {},
   "source": [
    "Дальше я тестировал, получится ли при такой же конвертации закинуть в другие модели для сравнения результатов. Во все модели бибилиотеки, кроме ProNet закинуть обработанный датасет можно."
   ]
  },
  {
   "cell_type": "code",
   "execution_count": 10,
   "id": "3cdc90bb-c109-4836-9b2c-ba64972d014a",
   "metadata": {},
   "outputs": [],
   "source": [
    "model2 = SchNet(energy_and_force=False, cutoff=10.0, num_layers=6, hidden_channels=128, out_channels=1, num_filters=128, num_gaussians=50)\n",
    "# model3 = ProNet(level='aminoacid', num_blocks=4, hidden_channels=128, out_channels=1, mid_emb=64, num_radial=6, num_spherical=2, cutoff=10.0, max_num_neighbors=32, int_emb_layers=3, out_layers=2, num_pos_emb=16, dropout=0, data_augment_eachlayer=False, euler_noise=False)\n",
    "model4 = DimeNetPP(energy_and_force=False, cutoff=5.0, num_layers=4, hidden_channels=128, out_channels=1, int_emb_size=64, basis_emb_size=8, out_emb_channels=256, num_spherical=7, num_radial=6, envelope_exponent=5, num_before_skip=1, num_after_skip=2, num_output_layers=3, output_init='GlorotOrthogonal')\n",
    "model5 = ComENet(cutoff=8.0, num_layers=4, hidden_channels=256, middle_channels=64, out_channels=1, num_radial=3, num_spherical=2, num_output_layers=3)"
   ]
  },
  {
   "cell_type": "code",
   "execution_count": 16,
   "id": "547cd1c3-0412-4f84-8119-f95e3fccd08c",
   "metadata": {
    "collapsed": true,
    "jupyter": {
     "outputs_hidden": true
    },
    "tags": []
   },
   "outputs": [
    {
     "name": "stdout",
     "output_type": "stream",
     "text": [
      "#Params: 3778817\n",
      "\n",
      "=====Epoch 1\n",
      "\n",
      "Training...\n"
     ]
    },
    {
     "name": "stderr",
     "output_type": "stream",
     "text": [
      "  0%|          | 111/38199 [00:06<39:57, 15.89it/s] \n"
     ]
    },
    {
     "ename": "KeyboardInterrupt",
     "evalue": "",
     "output_type": "error",
     "traceback": [
      "\u001b[0;31m---------------------------------------------------------------------------\u001b[0m",
      "\u001b[0;31mKeyboardInterrupt\u001b[0m                         Traceback (most recent call last)",
      "Cell \u001b[0;32mIn[16], line 2\u001b[0m\n\u001b[1;32m      1\u001b[0m run3d \u001b[38;5;241m=\u001b[39m run()\n\u001b[0;32m----> 2\u001b[0m \u001b[43mrun3d\u001b[49m\u001b[38;5;241;43m.\u001b[39;49m\u001b[43mrun\u001b[49m\u001b[43m(\u001b[49m\u001b[43mdevice\u001b[49m\u001b[43m,\u001b[49m\u001b[43m \u001b[49m\u001b[43mX_train\u001b[49m\u001b[43m,\u001b[49m\u001b[43m \u001b[49m\u001b[43mX_val\u001b[49m\u001b[43m,\u001b[49m\u001b[43m \u001b[49m\u001b[43mX_test\u001b[49m\u001b[43m,\u001b[49m\u001b[43m \u001b[49m\u001b[43mmodel5\u001b[49m\u001b[43m,\u001b[49m\u001b[43m \u001b[49m\u001b[43mloss_func\u001b[49m\u001b[43m,\u001b[49m\u001b[43m \u001b[49m\u001b[43mevaluation\u001b[49m\u001b[43m,\u001b[49m\n\u001b[1;32m      3\u001b[0m \u001b[43m          \u001b[49m\u001b[43mepochs\u001b[49m\u001b[38;5;241;43m=\u001b[39;49m\u001b[38;5;241;43m10\u001b[39;49m\u001b[43m,\u001b[49m\u001b[43m \u001b[49m\u001b[43mbatch_size\u001b[49m\u001b[38;5;241;43m=\u001b[39;49m\u001b[38;5;241;43m32\u001b[39;49m\u001b[43m,\u001b[49m\u001b[43m \u001b[49m\u001b[43mvt_batch_size\u001b[49m\u001b[38;5;241;43m=\u001b[39;49m\u001b[38;5;241;43m32\u001b[39;49m\u001b[43m,\u001b[49m\u001b[43m \u001b[49m\u001b[43mlr\u001b[49m\u001b[38;5;241;43m=\u001b[39;49m\u001b[38;5;241;43m0.0005\u001b[39;49m\u001b[43m,\u001b[49m\u001b[43m \u001b[49m\u001b[43mlr_decay_factor\u001b[49m\u001b[38;5;241;43m=\u001b[39;49m\u001b[38;5;241;43m0.5\u001b[39;49m\u001b[43m,\u001b[49m\u001b[43m \u001b[49m\u001b[43mlr_decay_step_size\u001b[49m\u001b[38;5;241;43m=\u001b[39;49m\u001b[38;5;241;43m15\u001b[39;49m\u001b[43m,\u001b[49m\n\u001b[1;32m      4\u001b[0m \u001b[43m          \u001b[49m\u001b[43msave_dir\u001b[49m\u001b[38;5;241;43m=\u001b[39;49m\u001b[38;5;124;43mf\u001b[39;49m\u001b[38;5;124;43m\"\u001b[39;49m\u001b[38;5;124;43mmodels/\u001b[39;49m\u001b[38;5;132;43;01m{\u001b[39;49;00m\u001b[43mname_of_model\u001b[49m\u001b[38;5;132;43;01m}\u001b[39;49;00m\u001b[38;5;124;43m\"\u001b[39;49m\u001b[43m,\u001b[49m\u001b[43m \u001b[49m\u001b[43mlog_dir\u001b[49m\u001b[38;5;241;43m=\u001b[39;49m\u001b[38;5;124;43mf\u001b[39;49m\u001b[38;5;124;43m\"\u001b[39;49m\u001b[38;5;124;43mlogs/\u001b[39;49m\u001b[38;5;132;43;01m{\u001b[39;49;00m\u001b[43mname_of_model\u001b[49m\u001b[38;5;132;43;01m}\u001b[39;49;00m\u001b[38;5;124;43m\"\u001b[39;49m\u001b[43m)\u001b[49m\n",
      "File \u001b[0;32m~/.conda/envs/toxic_env/lib/python3.10/site-packages/dig/threedgraph/method/run.py:71\u001b[0m, in \u001b[0;36mrun.run\u001b[0;34m(self, device, train_dataset, valid_dataset, test_dataset, model, loss_func, evaluation, epochs, batch_size, vt_batch_size, lr, lr_decay_factor, lr_decay_step_size, weight_decay, energy_and_force, p, save_dir, log_dir)\u001b[0m\n\u001b[1;32m     68\u001b[0m \u001b[38;5;28mprint\u001b[39m(\u001b[38;5;124m\"\u001b[39m\u001b[38;5;130;01m\\n\u001b[39;00m\u001b[38;5;124m=====Epoch \u001b[39m\u001b[38;5;132;01m{}\u001b[39;00m\u001b[38;5;124m\"\u001b[39m\u001b[38;5;241m.\u001b[39mformat(epoch), flush\u001b[38;5;241m=\u001b[39m\u001b[38;5;28;01mTrue\u001b[39;00m)\n\u001b[1;32m     70\u001b[0m \u001b[38;5;28mprint\u001b[39m(\u001b[38;5;124m'\u001b[39m\u001b[38;5;130;01m\\n\u001b[39;00m\u001b[38;5;124mTraining...\u001b[39m\u001b[38;5;124m'\u001b[39m, flush\u001b[38;5;241m=\u001b[39m\u001b[38;5;28;01mTrue\u001b[39;00m)\n\u001b[0;32m---> 71\u001b[0m train_mae \u001b[38;5;241m=\u001b[39m \u001b[38;5;28;43mself\u001b[39;49m\u001b[38;5;241;43m.\u001b[39;49m\u001b[43mtrain\u001b[49m\u001b[43m(\u001b[49m\u001b[43mmodel\u001b[49m\u001b[43m,\u001b[49m\u001b[43m \u001b[49m\u001b[43moptimizer\u001b[49m\u001b[43m,\u001b[49m\u001b[43m \u001b[49m\u001b[43mtrain_loader\u001b[49m\u001b[43m,\u001b[49m\u001b[43m \u001b[49m\u001b[43menergy_and_force\u001b[49m\u001b[43m,\u001b[49m\u001b[43m \u001b[49m\u001b[43mp\u001b[49m\u001b[43m,\u001b[49m\u001b[43m \u001b[49m\u001b[43mloss_func\u001b[49m\u001b[43m,\u001b[49m\u001b[43m \u001b[49m\u001b[43mdevice\u001b[49m\u001b[43m)\u001b[49m\n\u001b[1;32m     73\u001b[0m \u001b[38;5;28mprint\u001b[39m(\u001b[38;5;124m'\u001b[39m\u001b[38;5;130;01m\\n\u001b[39;00m\u001b[38;5;130;01m\\n\u001b[39;00m\u001b[38;5;124mEvaluating...\u001b[39m\u001b[38;5;124m'\u001b[39m, flush\u001b[38;5;241m=\u001b[39m\u001b[38;5;28;01mTrue\u001b[39;00m)\n\u001b[1;32m     74\u001b[0m valid_mae \u001b[38;5;241m=\u001b[39m \u001b[38;5;28mself\u001b[39m\u001b[38;5;241m.\u001b[39mval(model, valid_loader, energy_and_force, p, evaluation, device)\n",
      "File \u001b[0;32m~/.conda/envs/toxic_env/lib/python3.10/site-packages/dig/threedgraph/method/run.py:124\u001b[0m, in \u001b[0;36mrun.train\u001b[0;34m(self, model, optimizer, train_loader, energy_and_force, p, loss_func, device)\u001b[0m\n\u001b[1;32m    122\u001b[0m optimizer\u001b[38;5;241m.\u001b[39mzero_grad()\n\u001b[1;32m    123\u001b[0m batch_data \u001b[38;5;241m=\u001b[39m batch_data\u001b[38;5;241m.\u001b[39mto(device)\n\u001b[0;32m--> 124\u001b[0m out \u001b[38;5;241m=\u001b[39m \u001b[43mmodel\u001b[49m\u001b[43m(\u001b[49m\u001b[43mbatch_data\u001b[49m\u001b[43m)\u001b[49m\n\u001b[1;32m    125\u001b[0m \u001b[38;5;28;01mif\u001b[39;00m energy_and_force:\n\u001b[1;32m    126\u001b[0m     force \u001b[38;5;241m=\u001b[39m \u001b[38;5;241m-\u001b[39mgrad(outputs\u001b[38;5;241m=\u001b[39mout, inputs\u001b[38;5;241m=\u001b[39mbatch_data\u001b[38;5;241m.\u001b[39mpos, grad_outputs\u001b[38;5;241m=\u001b[39mtorch\u001b[38;5;241m.\u001b[39mones_like(out),create_graph\u001b[38;5;241m=\u001b[39m\u001b[38;5;28;01mTrue\u001b[39;00m,retain_graph\u001b[38;5;241m=\u001b[39m\u001b[38;5;28;01mTrue\u001b[39;00m)[\u001b[38;5;241m0\u001b[39m]\n",
      "File \u001b[0;32m~/.local/lib/python3.10/site-packages/torch/nn/modules/module.py:1532\u001b[0m, in \u001b[0;36mModule._wrapped_call_impl\u001b[0;34m(self, *args, **kwargs)\u001b[0m\n\u001b[1;32m   1530\u001b[0m     \u001b[38;5;28;01mreturn\u001b[39;00m \u001b[38;5;28mself\u001b[39m\u001b[38;5;241m.\u001b[39m_compiled_call_impl(\u001b[38;5;241m*\u001b[39margs, \u001b[38;5;241m*\u001b[39m\u001b[38;5;241m*\u001b[39mkwargs)  \u001b[38;5;66;03m# type: ignore[misc]\u001b[39;00m\n\u001b[1;32m   1531\u001b[0m \u001b[38;5;28;01melse\u001b[39;00m:\n\u001b[0;32m-> 1532\u001b[0m     \u001b[38;5;28;01mreturn\u001b[39;00m \u001b[38;5;28;43mself\u001b[39;49m\u001b[38;5;241;43m.\u001b[39;49m\u001b[43m_call_impl\u001b[49m\u001b[43m(\u001b[49m\u001b[38;5;241;43m*\u001b[39;49m\u001b[43margs\u001b[49m\u001b[43m,\u001b[49m\u001b[43m \u001b[49m\u001b[38;5;241;43m*\u001b[39;49m\u001b[38;5;241;43m*\u001b[39;49m\u001b[43mkwargs\u001b[49m\u001b[43m)\u001b[49m\n",
      "File \u001b[0;32m~/.local/lib/python3.10/site-packages/torch/nn/modules/module.py:1541\u001b[0m, in \u001b[0;36mModule._call_impl\u001b[0;34m(self, *args, **kwargs)\u001b[0m\n\u001b[1;32m   1536\u001b[0m \u001b[38;5;66;03m# If we don't have any hooks, we want to skip the rest of the logic in\u001b[39;00m\n\u001b[1;32m   1537\u001b[0m \u001b[38;5;66;03m# this function, and just call forward.\u001b[39;00m\n\u001b[1;32m   1538\u001b[0m \u001b[38;5;28;01mif\u001b[39;00m \u001b[38;5;129;01mnot\u001b[39;00m (\u001b[38;5;28mself\u001b[39m\u001b[38;5;241m.\u001b[39m_backward_hooks \u001b[38;5;129;01mor\u001b[39;00m \u001b[38;5;28mself\u001b[39m\u001b[38;5;241m.\u001b[39m_backward_pre_hooks \u001b[38;5;129;01mor\u001b[39;00m \u001b[38;5;28mself\u001b[39m\u001b[38;5;241m.\u001b[39m_forward_hooks \u001b[38;5;129;01mor\u001b[39;00m \u001b[38;5;28mself\u001b[39m\u001b[38;5;241m.\u001b[39m_forward_pre_hooks\n\u001b[1;32m   1539\u001b[0m         \u001b[38;5;129;01mor\u001b[39;00m _global_backward_pre_hooks \u001b[38;5;129;01mor\u001b[39;00m _global_backward_hooks\n\u001b[1;32m   1540\u001b[0m         \u001b[38;5;129;01mor\u001b[39;00m _global_forward_hooks \u001b[38;5;129;01mor\u001b[39;00m _global_forward_pre_hooks):\n\u001b[0;32m-> 1541\u001b[0m     \u001b[38;5;28;01mreturn\u001b[39;00m \u001b[43mforward_call\u001b[49m\u001b[43m(\u001b[49m\u001b[38;5;241;43m*\u001b[39;49m\u001b[43margs\u001b[49m\u001b[43m,\u001b[49m\u001b[43m \u001b[49m\u001b[38;5;241;43m*\u001b[39;49m\u001b[38;5;241;43m*\u001b[39;49m\u001b[43mkwargs\u001b[49m\u001b[43m)\u001b[49m\n\u001b[1;32m   1543\u001b[0m \u001b[38;5;28;01mtry\u001b[39;00m:\n\u001b[1;32m   1544\u001b[0m     result \u001b[38;5;241m=\u001b[39m \u001b[38;5;28;01mNone\u001b[39;00m\n",
      "File \u001b[0;32m~/.conda/envs/toxic_env/lib/python3.10/site-packages/dig/threedgraph/method/comenet/comenet.py:402\u001b[0m, in \u001b[0;36mComENet.forward\u001b[0;34m(self, batch_data)\u001b[0m\n\u001b[1;32m    401\u001b[0m \u001b[38;5;28;01mdef\u001b[39;00m \u001b[38;5;21mforward\u001b[39m(\u001b[38;5;28mself\u001b[39m, batch_data):\n\u001b[0;32m--> 402\u001b[0m     \u001b[38;5;28;01mreturn\u001b[39;00m \u001b[38;5;28;43mself\u001b[39;49m\u001b[38;5;241;43m.\u001b[39;49m\u001b[43m_forward\u001b[49m\u001b[43m(\u001b[49m\u001b[43mbatch_data\u001b[49m\u001b[43m)\u001b[49m\n",
      "File \u001b[0;32m~/.conda/envs/toxic_env/lib/python3.10/site-packages/dig/threedgraph/method/comenet/comenet.py:392\u001b[0m, in \u001b[0;36mComENet._forward\u001b[0;34m(self, data)\u001b[0m\n\u001b[1;32m    390\u001b[0m \u001b[38;5;66;03m# Interaction blocks.\u001b[39;00m\n\u001b[1;32m    391\u001b[0m \u001b[38;5;28;01mfor\u001b[39;00m interaction_block \u001b[38;5;129;01min\u001b[39;00m \u001b[38;5;28mself\u001b[39m\u001b[38;5;241m.\u001b[39minteraction_blocks:\n\u001b[0;32m--> 392\u001b[0m     x \u001b[38;5;241m=\u001b[39m \u001b[43minteraction_block\u001b[49m\u001b[43m(\u001b[49m\u001b[43mx\u001b[49m\u001b[43m,\u001b[49m\u001b[43m \u001b[49m\u001b[43mfeature1\u001b[49m\u001b[43m,\u001b[49m\u001b[43m \u001b[49m\u001b[43mfeature2\u001b[49m\u001b[43m,\u001b[49m\u001b[43m \u001b[49m\u001b[43medge_index\u001b[49m\u001b[43m,\u001b[49m\u001b[43m \u001b[49m\u001b[43mbatch\u001b[49m\u001b[43m)\u001b[49m\n\u001b[1;32m    394\u001b[0m \u001b[38;5;28;01mfor\u001b[39;00m lin \u001b[38;5;129;01min\u001b[39;00m \u001b[38;5;28mself\u001b[39m\u001b[38;5;241m.\u001b[39mlins:\n\u001b[1;32m    395\u001b[0m     x \u001b[38;5;241m=\u001b[39m \u001b[38;5;28mself\u001b[39m\u001b[38;5;241m.\u001b[39mact(lin(x))\n",
      "File \u001b[0;32m~/.local/lib/python3.10/site-packages/torch/nn/modules/module.py:1532\u001b[0m, in \u001b[0;36mModule._wrapped_call_impl\u001b[0;34m(self, *args, **kwargs)\u001b[0m\n\u001b[1;32m   1530\u001b[0m     \u001b[38;5;28;01mreturn\u001b[39;00m \u001b[38;5;28mself\u001b[39m\u001b[38;5;241m.\u001b[39m_compiled_call_impl(\u001b[38;5;241m*\u001b[39margs, \u001b[38;5;241m*\u001b[39m\u001b[38;5;241m*\u001b[39mkwargs)  \u001b[38;5;66;03m# type: ignore[misc]\u001b[39;00m\n\u001b[1;32m   1531\u001b[0m \u001b[38;5;28;01melse\u001b[39;00m:\n\u001b[0;32m-> 1532\u001b[0m     \u001b[38;5;28;01mreturn\u001b[39;00m \u001b[38;5;28;43mself\u001b[39;49m\u001b[38;5;241;43m.\u001b[39;49m\u001b[43m_call_impl\u001b[49m\u001b[43m(\u001b[49m\u001b[38;5;241;43m*\u001b[39;49m\u001b[43margs\u001b[49m\u001b[43m,\u001b[49m\u001b[43m \u001b[49m\u001b[38;5;241;43m*\u001b[39;49m\u001b[38;5;241;43m*\u001b[39;49m\u001b[43mkwargs\u001b[49m\u001b[43m)\u001b[49m\n",
      "File \u001b[0;32m~/.local/lib/python3.10/site-packages/torch/nn/modules/module.py:1541\u001b[0m, in \u001b[0;36mModule._call_impl\u001b[0;34m(self, *args, **kwargs)\u001b[0m\n\u001b[1;32m   1536\u001b[0m \u001b[38;5;66;03m# If we don't have any hooks, we want to skip the rest of the logic in\u001b[39;00m\n\u001b[1;32m   1537\u001b[0m \u001b[38;5;66;03m# this function, and just call forward.\u001b[39;00m\n\u001b[1;32m   1538\u001b[0m \u001b[38;5;28;01mif\u001b[39;00m \u001b[38;5;129;01mnot\u001b[39;00m (\u001b[38;5;28mself\u001b[39m\u001b[38;5;241m.\u001b[39m_backward_hooks \u001b[38;5;129;01mor\u001b[39;00m \u001b[38;5;28mself\u001b[39m\u001b[38;5;241m.\u001b[39m_backward_pre_hooks \u001b[38;5;129;01mor\u001b[39;00m \u001b[38;5;28mself\u001b[39m\u001b[38;5;241m.\u001b[39m_forward_hooks \u001b[38;5;129;01mor\u001b[39;00m \u001b[38;5;28mself\u001b[39m\u001b[38;5;241m.\u001b[39m_forward_pre_hooks\n\u001b[1;32m   1539\u001b[0m         \u001b[38;5;129;01mor\u001b[39;00m _global_backward_pre_hooks \u001b[38;5;129;01mor\u001b[39;00m _global_backward_hooks\n\u001b[1;32m   1540\u001b[0m         \u001b[38;5;129;01mor\u001b[39;00m _global_forward_hooks \u001b[38;5;129;01mor\u001b[39;00m _global_forward_pre_hooks):\n\u001b[0;32m-> 1541\u001b[0m     \u001b[38;5;28;01mreturn\u001b[39;00m \u001b[43mforward_call\u001b[49m\u001b[43m(\u001b[49m\u001b[38;5;241;43m*\u001b[39;49m\u001b[43margs\u001b[49m\u001b[43m,\u001b[49m\u001b[43m \u001b[49m\u001b[38;5;241;43m*\u001b[39;49m\u001b[38;5;241;43m*\u001b[39;49m\u001b[43mkwargs\u001b[49m\u001b[43m)\u001b[49m\n\u001b[1;32m   1543\u001b[0m \u001b[38;5;28;01mtry\u001b[39;00m:\n\u001b[1;32m   1544\u001b[0m     result \u001b[38;5;241m=\u001b[39m \u001b[38;5;28;01mNone\u001b[39;00m\n",
      "File \u001b[0;32m~/.conda/envs/toxic_env/lib/python3.10/site-packages/dig/threedgraph/method/comenet/comenet.py:212\u001b[0m, in \u001b[0;36mSimpleInteractionBlock.forward\u001b[0;34m(self, x, feature1, feature2, edge_index, batch)\u001b[0m\n\u001b[1;32m    210\u001b[0m h \u001b[38;5;241m=\u001b[39m h \u001b[38;5;241m+\u001b[39m x\n\u001b[1;32m    211\u001b[0m \u001b[38;5;28;01mfor\u001b[39;00m lin \u001b[38;5;129;01min\u001b[39;00m \u001b[38;5;28mself\u001b[39m\u001b[38;5;241m.\u001b[39mlins:\n\u001b[0;32m--> 212\u001b[0m     h \u001b[38;5;241m=\u001b[39m \u001b[38;5;28;43mself\u001b[39;49m\u001b[38;5;241;43m.\u001b[39;49m\u001b[43mact\u001b[49m\u001b[43m(\u001b[49m\u001b[43mlin\u001b[49m\u001b[43m(\u001b[49m\u001b[43mh\u001b[49m\u001b[43m)\u001b[49m\u001b[43m)\u001b[49m \u001b[38;5;241m+\u001b[39m h\n\u001b[1;32m    213\u001b[0m h \u001b[38;5;241m=\u001b[39m \u001b[38;5;28mself\u001b[39m\u001b[38;5;241m.\u001b[39mnorm(h, batch)\n\u001b[1;32m    214\u001b[0m h \u001b[38;5;241m=\u001b[39m \u001b[38;5;28mself\u001b[39m\u001b[38;5;241m.\u001b[39mfinal(h)\n",
      "\u001b[0;31mKeyboardInterrupt\u001b[0m: "
     ]
    }
   ],
   "source": [
    "run3d = run()\n",
    "run3d.run(device, X_train, X_val, X_test, model5, loss_func, evaluation,\n",
    "          epochs=10, batch_size=32, vt_batch_size=32, lr=0.0005, lr_decay_factor=0.5, lr_decay_step_size=15,\n",
    "          save_dir=f\"models/{name_of_model}\", log_dir=f\"logs/{name_of_model}\")"
   ]
  }
 ],
 "metadata": {
  "kernelspec": {
   "display_name": "Python [.conda-toxic_env]",
   "language": "python",
   "name": "conda-env-.conda-toxic_env-py"
  },
  "language_info": {
   "codemirror_mode": {
    "name": "ipython",
    "version": 3
   },
   "file_extension": ".py",
   "mimetype": "text/x-python",
   "name": "python",
   "nbconvert_exporter": "python",
   "pygments_lexer": "ipython3",
   "version": "3.10.14"
  }
 },
 "nbformat": 4,
 "nbformat_minor": 5
}
